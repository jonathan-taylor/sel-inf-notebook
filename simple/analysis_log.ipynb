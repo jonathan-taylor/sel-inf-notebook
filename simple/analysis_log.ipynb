{
 "cells": [
  {
   "cell_type": "code",
   "execution_count": 1,
   "metadata": {},
   "outputs": [],
   "source": [
    "\n",
    "importFrom  <- function(filename, obj_names, where) {\n",
    "    if (missing(obj_names)) { ## import everything\n",
    "    source(filename, local = FALSE)\n",
    "    } else {\n",
    "        e  <- new.env()\n",
    "        return_env = new.env()\n",
    "        source(filename, local = e)\n",
    "        #if (missing(where)) where = parent.env(parent.env(e))\n",
    "        for (obj in obj_names) {\n",
    "            assign(x = obj, value = get(x = obj, envir = e), envir = return_env)\n",
    "        }\n",
    "    }\n",
    "    invisible(TRUE)\n",
    "    return(return_env)\n",
    "}\n",
    "\n",
    "if (! exists(\"data_7b3fa16809cb11ea91bf3af9d395e2bf\")) { data_7b3fa16809cb11ea91bf3af9d395e2bf = list() }\n",
    "variable_7b413e1209cb11ea95743af9d395e2bf = c(\"stage1\", \"stage2\")\n",
    "data_7b3fa16809cb11ea91bf3af9d395e2bf = importFrom(\"simple/load_data.R\", variable_7b413e1209cb11ea95743af9d395e2bf)\n",
    "for (var_7b413f5c09cb11eaa3163af9d395e2bf in variable_7b413e1209cb11ea95743af9d395e2bf) { assign(var_7b413f5c09cb11eaa3163af9d395e2bf, get(var_7b413f5c09cb11eaa3163af9d395e2bf, env=data_7b3fa16809cb11ea91bf3af9d395e2bf))}\n"
   ]
  },
  {
   "cell_type": "code",
   "execution_count": 2,
   "metadata": {
    "collapsed": true,
    "data_input": [
     "simple/load_data.R",
     [
      "stage1",
      "stage2"
     ]
    ]
   },
   "outputs": [],
   "source": [
    "#NULL cell where data is loaded"
   ]
  },
  {
   "cell_type": "code",
   "execution_count": 3,
   "metadata": {
    "capture_selection": [
     {
      "encoder": "dataframe",
      "name": "mytest",
      "selection_type": "set"
     }
    ]
   },
   "outputs": [],
   "source": [
    "mytest = abs(mean(stage1[['X1']])) > 2 / sqrt(nrow(stage1))"
   ]
  },
  {
   "cell_type": "code",
   "execution_count": 4,
   "metadata": {},
   "outputs": [],
   "source": [
    "analysis_selection_7b856dd009cb11ea92093af9d395e2bf = list();\n",
    "analysis_selection_7b856dd009cb11ea92093af9d395e2bf[[\"mytest\"]] = mytest;\n"
   ]
  },
  {
   "cell_type": "code",
   "execution_count": 5,
   "metadata": {
    "collapsed": true,
    "data_model": {
     "estimators": "compute_estimators",
     "resample_data": "resample_data",
     "sufficient_statistics": "compute_sufficient_statistics",
     "variances": "estimate_var"
    },
    "functions": "stats_computations"
   },
   "outputs": [],
   "source": [
    "compute_sufficient_statistics <- function(selection) {\n",
    "    suff_stat = sum(stage1[['X1']])\n",
    "    names(suff_stat) = 'X1'\n",
    "    return(as.data.frame(t(suff_stat)))\n",
    "}\n",
    "\n",
    "compute_estimators <- function(selection) {\n",
    "    suff_stat = compute_sufficient_statistics(selection)\n",
    "    value = suff_stat[['X1']] / nrow(stage1)\n",
    "    names(value) = 'X1'\n",
    "    indicator = function(sim_selection) {\n",
    "        return(sim_selection[['mytest']] == TRUE)\n",
    "    }\n",
    "    return(list(X1=list(value=value, identifier='X1', indicator=indicator)))\n",
    "}\n",
    "\n",
    "estimate_var <- function(selection) {\n",
    "    variance = var(c(stage1[['X1']]))\n",
    "    cross = variance\n",
    "    names(cross) = 'X1'\n",
    "    names(variance) = 'X1'\n",
    "    return(list(X1=list(identifier='X1', var=variance / nrow(stage1),\n",
    "                            cross=cross)))\n",
    "}\n",
    "\n",
    "\n",
    "resample_data <- function(data, selection) {\n",
    "    stage1 = data[[\"stage1\"]]\n",
    "    stage2 = data[[\"stage2\"]]\n",
    "    \n",
    "    vars = apply(stage1, 2, var)\n",
    "    \n",
    "    means = apply(stage1, 2, mean)\n",
    "    \n",
    "    stage1_sim = stage1\n",
    "    stage1_sim[['X1']] = rnorm(nrow(stage1)) * sqrt(vars[['X1']]) * (0.2 + 1.6 * runif(1)) + means[['X1']]\n",
    "    stage2_sim = stage2\n",
    "    \n",
    "    sim_env = new.env()\n",
    "    assign('stage1', as.data.frame(stage1_sim), env=sim_env)\n",
    "    assign('stage2', as.data.frame(stage2_sim), env=sim_env)\n",
    "    return(sim_env)\n",
    "    \n",
    "}\n",
    "\n"
   ]
  },
  {
   "cell_type": "code",
   "execution_count": 6,
   "metadata": {},
   "outputs": [],
   "source": [
    "suff_stat_7bbb4d7e09cb11eaa7873af9d395e2bf = compute_sufficient_statistics(analysis_selection_7b856dd009cb11ea92093af9d395e2bf);"
   ]
  },
  {
   "cell_type": "code",
   "execution_count": null,
   "metadata": {},
   "outputs": [],
   "source": [
    "\n",
    "library(feather)\n",
    "filename_7bce596409cb11eaa4843af9d395e2bf = tempfile()\n",
    "feather::write_feather(suff_stat_7bbb4d7e09cb11eaa7873af9d395e2bf, filename_7bce596409cb11eaa4843af9d395e2bf)\n",
    "file_7bce57f409cb11ea9a5f3af9d395e2bf = file(filename_7bce596409cb11eaa4843af9d395e2bf, \"rb\")\n",
    "bin64_7bce59d209cb11ea802e3af9d395e2bf = readBin(file_7bce57f409cb11ea9a5f3af9d395e2bf, \"raw\", file.size(filename_7bce596409cb11eaa4843af9d395e2bf) + 1000)\n",
    "IRdisplay:::display_raw(\"application/selective.inference\", TRUE, NULL, filename_7bce596409cb11eaa4843af9d395e2bf, list(encoder=\"dataframe\"))\n",
    "close(file_7bce57f409cb11ea9a5f3af9d395e2bf)\n",
    "unlink(filename_7bce596409cb11eaa4843af9d395e2bf)\n"
   ]
  }
 ],
 "metadata": {
  "celltoolbar": "Edit Metadata",
  "jupytext": {
   "cell_metadata_filter": "all,-slideshow"
  },
  "kernelspec": {
   "display_name": "R",
   "language": "R",
   "name": "ir"
  },
  "language_info": {
   "codemirror_mode": "r",
   "file_extension": ".r",
   "mimetype": "text/x-r-source",
   "name": "R",
   "pygments_lexer": "r",
   "version": "3.6.1"
  }
 },
 "nbformat": 4,
 "nbformat_minor": 2
}
