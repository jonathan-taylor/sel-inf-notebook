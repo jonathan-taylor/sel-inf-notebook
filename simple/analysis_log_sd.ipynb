{
 "cells": [
  {
   "cell_type": "code",
   "execution_count": 1,
   "metadata": {},
   "outputs": [],
   "source": [
    "\n",
    "importFrom  <- function(filename, obj_names, where) {\n",
    "    if (missing(obj_names)) { ## import everything\n",
    "    source(filename, local = FALSE)\n",
    "    } else {\n",
    "        e  <- new.env()\n",
    "        return_env = new.env()\n",
    "        source(filename, local = e)\n",
    "        #if (missing(where)) where = parent.env(parent.env(e))\n",
    "        for (obj in obj_names) {\n",
    "            assign(x = obj, value = get(x = obj, envir = e), envir = return_env)\n",
    "        }\n",
    "    }\n",
    "    invisible(TRUE)\n",
    "    return(return_env)\n",
    "}\n",
    "\n",
    "if (! exists(\"data_4b79235c09cb11eaac9d3af9d395e2bf\")) { data_4b79235c09cb11eaac9d3af9d395e2bf = list() }\n",
    "variable_4b7ac91409cb11ea89ed3af9d395e2bf = c(\"stage1\", \"stage2\")\n",
    "data_4b79235c09cb11eaac9d3af9d395e2bf = importFrom(\"simple/load_data.R\", variable_4b7ac91409cb11ea89ed3af9d395e2bf)\n",
    "for (var_4b7acaae09cb11ea9a833af9d395e2bf in variable_4b7ac91409cb11ea89ed3af9d395e2bf) { assign(var_4b7acaae09cb11ea9a833af9d395e2bf, get(var_4b7acaae09cb11ea9a833af9d395e2bf, env=data_4b79235c09cb11eaac9d3af9d395e2bf))}\n"
   ]
  },
  {
   "cell_type": "code",
   "execution_count": 2,
   "metadata": {
    "collapsed": true,
    "data_input": [
     "simple/load_data.R",
     [
      "stage1",
      "stage2"
     ]
    ]
   },
   "outputs": [],
   "source": [
    "#NULL cell where data is loaded"
   ]
  },
  {
   "cell_type": "code",
   "execution_count": 3,
   "metadata": {
    "capture_selection": [
     {
      "encoder": "dataframe",
      "name": "mytest",
      "selection_type": "set"
     }
    ]
   },
   "outputs": [],
   "source": [
    "mytest = t.test(stage1[['X1']])$p.value < 0.05"
   ]
  },
  {
   "cell_type": "code",
   "execution_count": 4,
   "metadata": {},
   "outputs": [],
   "source": [
    "analysis_selection_4be5ad4209cb11eaa7103af9d395e2bf = list();\n",
    "analysis_selection_4be5ad4209cb11eaa7103af9d395e2bf[[\"mytest\"]] = mytest;\n"
   ]
  },
  {
   "cell_type": "code",
   "execution_count": 5,
   "metadata": {
    "collapsed": true,
    "data_model": {
     "estimators": "compute_estimators",
     "resample_data": "resample_data",
     "sufficient_statistics": "compute_sufficient_statistics",
     "variances": "estimate_var"
    },
    "functions": "stats_computations"
   },
   "outputs": [],
   "source": [
    "compute_sufficient_statistics <- function(selection) {\n",
    "    suff_stat = c(sum(stage1[['X1']]), sum(stage1[['X1']]^2))\n",
    "    names(suff_stat) = c('X1', 'X1_sq')\n",
    "    return(as.data.frame(t(suff_stat)))\n",
    "}\n",
    "\n",
    "compute_estimators <- function(selection) {\n",
    "    suff_stat = compute_sufficient_statistics(selection)\n",
    "    value = suff_stat[['X1']] / nrow(stage1)\n",
    "    names(value) = 'X1'\n",
    "    indicator = function(sim_selection) {\n",
    "        return(sim_selection[['mytest']] == TRUE)\n",
    "    }\n",
    "    return(list(X1=list(value=value, identifier='X1', indicator=indicator)))\n",
    "}\n",
    "\n",
    "estimate_var <- function(selection) {\n",
    "    variance = var(c(stage1[['X1']]))\n",
    "    cross = c(variance, 0)\n",
    "    names(cross) = c('X1', 'X1_sq')\n",
    "    names(variance) = 'X1'\n",
    "    return(list(X1=list(identifier='X1', var=variance / nrow(stage1),\n",
    "                            cross=cross)))\n",
    "}\n",
    "\n",
    "\n",
    "resample_data <- function(data, selection) {\n",
    "    stage1 = data[[\"stage1\"]]\n",
    "    stage2 = data[[\"stage2\"]]\n",
    "    \n",
    "    vars = apply(stage1, 2, var)\n",
    "    \n",
    "    means = apply(stage1, 2, mean)\n",
    "    \n",
    "    stage1_sim = stage1\n",
    "    stage1_sim[['X1']] = rnorm(nrow(stage1)) * sqrt(vars[['X1']]) * (0.2 + 2 * runif(1)) + means[['X1']]\n",
    "    stage2_sim = stage2\n",
    "    \n",
    "    sim_env = new.env()\n",
    "    assign('stage1', as.data.frame(stage1_sim), env=sim_env)\n",
    "    assign('stage2', as.data.frame(stage2_sim), env=sim_env)\n",
    "    return(sim_env)\n",
    "    \n",
    "}\n",
    "\n"
   ]
  },
  {
   "cell_type": "code",
   "execution_count": 6,
   "metadata": {},
   "outputs": [],
   "source": [
    "suff_stat_4c27b54809cb11ea94a63af9d395e2bf = compute_sufficient_statistics(analysis_selection_4be5ad4209cb11eaa7103af9d395e2bf);"
   ]
  },
  {
   "cell_type": "code",
   "execution_count": 7,
   "metadata": {},
   "outputs": [
    {
     "data": {
      "application/selective.inference": "RkVBMQAAAADACE3z93VQwB2UyCVrJIdAFAAAAAAADgAUAAAADAAEAAgAAAAOAAAAEAAAAAIA\nAAABAAAAAAAAAAIAAABsAAAABAAAAKr///8UAAAALAAAAAQAAAAAAAAAAAAAAAUAAABYMV9z\ncQAAABAAIgAHAAAACAAQAAAAGAAQAAAAAAAAChAAAAAAAAAAAQAAAAAAAAAIAAAAAAAAAAAA\nDgAQAAQACAAAAAAADAAOAAAAFAAAACgAAAAEAAAAAAAAAAAAAAACAAAAWDEAABAAIAAHAAAA\nCAAQAAAAGAAQAAAAAAAACggAAAAAAAAAAQAAAAAAAAAIAAAAAAAAAOgAAABGRUEx"
     },
     "metadata": {
      "encoder": "dataframe"
     },
     "output_type": "display_data"
    }
   ],
   "source": [
    "\n",
    "library(feather)\n",
    "filename_4c3b068c09cb11eaaf3f3af9d395e2bf = tempfile()\n",
    "feather::write_feather(suff_stat_4c27b54809cb11ea94a63af9d395e2bf, filename_4c3b068c09cb11eaaf3f3af9d395e2bf)\n",
    "file_4c3b05a809cb11eabcc23af9d395e2bf = file(filename_4c3b068c09cb11eaaf3f3af9d395e2bf, \"rb\")\n",
    "bin64_4c3b06fa09cb11ea867f3af9d395e2bf = readBin(file_4c3b05a809cb11eabcc23af9d395e2bf, \"raw\", file.size(filename_4c3b068c09cb11eaaf3f3af9d395e2bf) + 1000)\n",
    "IRdisplay:::display_raw(\"application/selective.inference\", TRUE, NULL, filename_4c3b068c09cb11eaaf3f3af9d395e2bf, list(encoder=\"dataframe\"))\n",
    "close(file_4c3b05a809cb11eabcc23af9d395e2bf)\n",
    "unlink(filename_4c3b068c09cb11eaaf3f3af9d395e2bf)\n"
   ]
  },
  {
   "cell_type": "code",
   "execution_count": 8,
   "metadata": {},
   "outputs": [],
   "source": [
    "result_4c61cc5809cb11eaa9503af9d395e2bf = compute_estimators(analysis_selection_4be5ad4209cb11eaa7103af9d395e2bf)\n",
    "variance_4c61ceb809cb11ea83393af9d395e2bf = estimate_var(analysis_selection_4be5ad4209cb11eaa7103af9d395e2bf)\n",
    "estimates_4c61ce7409cb11ea8a743af9d395e2bf = c();\n",
    "names_4c61cdc809cb11eab3a73af9d395e2bf = c();\n",
    "for (val_4c61cd6409cb11eaa86b3af9d395e2bf in result_4c61cc5809cb11eaa9503af9d395e2bf) {\n",
    "    names_4c61cdc809cb11eab3a73af9d395e2bf = c(names_4c61cdc809cb11eab3a73af9d395e2bf, val_4c61cd6409cb11eaa86b3af9d395e2bf[['identifier']])\n",
    "    estimates_4c61ce7409cb11ea8a743af9d395e2bf = c(estimates_4c61ce7409cb11ea8a743af9d395e2bf, val_4c61cd6409cb11eaa86b3af9d395e2bf[['value']])\n",
    "}\n",
    "names(estimates_4c61ce7409cb11ea8a743af9d395e2bf) = names_4c61cdc809cb11eab3a73af9d395e2bf\n",
    "estimates_4c61ce7409cb11ea8a743af9d395e2bf = as.data.frame(as.matrix(t(estimates_4c61ce7409cb11ea8a743af9d395e2bf)))\n"
   ]
  },
  {
   "cell_type": "code",
   "execution_count": 9,
   "metadata": {},
   "outputs": [
    {
     "data": {
      "application/selective.inference": "RkVBMQAAAAAA2Gw34RHVvxQAAAAAAA4AFAAAAAwABAAIAAAADgAAABAAAAACAAAAAQAAAAAA\nAAABAAAAFAAAAAAADgAQAAQACAAAAAAADAAOAAAAFAAAACgAAAAEAAAAAAAAAAAAAAACAAAA\nWDEAABAAIAAHAAAACAAQAAAAGAAQAAAAAAAACggAAAAAAAAAAQAAAAAAAAAIAAAAAAAAAJAA\nAABGRUEx"
     },
     "metadata": {
      "encoder": "dataframe"
     },
     "output_type": "display_data"
    }
   ],
   "source": [
    "\n",
    "library(feather)\n",
    "filename_4c72953609cb11ea898d3af9d395e2bf = tempfile()\n",
    "feather::write_feather(estimates_4c61ce7409cb11ea8a743af9d395e2bf, filename_4c72953609cb11ea898d3af9d395e2bf)\n",
    "file_4c72943409cb11eaa0493af9d395e2bf = file(filename_4c72953609cb11ea898d3af9d395e2bf, \"rb\")\n",
    "bin64_4c7295a409cb11eab5723af9d395e2bf = readBin(file_4c72943409cb11eaa0493af9d395e2bf, \"raw\", file.size(filename_4c72953609cb11ea898d3af9d395e2bf) + 1000)\n",
    "IRdisplay:::display_raw(\"application/selective.inference\", TRUE, NULL, filename_4c72953609cb11ea898d3af9d395e2bf, list(encoder=\"dataframe\"))\n",
    "close(file_4c72943409cb11eaa0493af9d395e2bf)\n",
    "unlink(filename_4c72953609cb11ea898d3af9d395e2bf)\n"
   ]
  },
  {
   "cell_type": "code",
   "execution_count": 10,
   "metadata": {},
   "outputs": [
    {
     "data": {
      "application/selective.inference": "RkVBMQAAAAAoy6/d5X6SPxQAAAAAAA4AGAAAAAwABAAIAAAADgAAABQAAAACAAAAAQAAAAAA\nAAAAAAAAAQAAABQAAAAAAA4AEAAEAAgAAAAAAAwADgAAABQAAABcAAAABAAAAAAAAAAAAAAA\nNwAAAHZhcmlhbmNlXzRjNjFjZWI4MDljYjExZWE4MzM5M2FmOWQzOTVlMmJmW1sxXV1bWyJ2\nYXIiXV0AEAAgAAcAAAAIABAAAAAYABAAAAAAAAAKCAAAAAAAAAABAAAAAAAAAAgAAAAAAAAA\nyAAAAEZFQTE="
     },
     "metadata": {
      "encoder": "dataframe"
     },
     "output_type": "display_data"
    }
   ],
   "source": [
    "\n",
    "library(feather)\n",
    "filename_4c85c80c09cb11eaab133af9d395e2bf = tempfile()\n",
    "feather::write_feather(as.data.frame(variance_4c61ceb809cb11ea83393af9d395e2bf[[1]][[\"var\"]]), filename_4c85c80c09cb11eaab133af9d395e2bf)\n",
    "file_4c85c71e09cb11eabdce3af9d395e2bf = file(filename_4c85c80c09cb11eaab133af9d395e2bf, \"rb\")\n",
    "bin64_4c85c87409cb11eaba343af9d395e2bf = readBin(file_4c85c71e09cb11eabdce3af9d395e2bf, \"raw\", file.size(filename_4c85c80c09cb11eaab133af9d395e2bf) + 1000)\n",
    "IRdisplay:::display_raw(\"application/selective.inference\", TRUE, NULL, filename_4c85c80c09cb11eaab133af9d395e2bf, list(encoder=\"dataframe\"))\n",
    "close(file_4c85c71e09cb11eabdce3af9d395e2bf)\n",
    "unlink(filename_4c85c80c09cb11eaab133af9d395e2bf)\n"
   ]
  },
  {
   "cell_type": "code",
   "execution_count": 11,
   "metadata": {},
   "outputs": [
    {
     "data": {
      "application/selective.inference": "RkVBMQAAAABurWIqR+YMQAAAAAAAAAAAFAAAAAAADgAUAAAADAAEAAgAAAAOAAAAEAAAAAIA\nAAACAAAAAAAAAAEAAAAUAAAAAAAOABAABAAIAAAAAAAMAA4AAAAUAAAAYAAAAAQAAAAAAAAA\nAAAAADkAAAB2YXJpYW5jZV80YzYxY2ViODA5Y2IxMWVhODMzOTNhZjlkMzk1ZTJiZltbMV1d\nW1siY3Jvc3MiXV0AAAAQACAABwAAAAgAEAAAABgAEAAAAAAAAAoIAAAAAAAAAAIAAAAAAAAA\nEAAAAAAAAADIAAAARkVBMQ=="
     },
     "metadata": {
      "encoder": "dataframe"
     },
     "output_type": "display_data"
    }
   ],
   "source": [
    "\n",
    "library(feather)\n",
    "filename_4c9c5d4609cb11ea915a3af9d395e2bf = tempfile()\n",
    "feather::write_feather(as.data.frame(variance_4c61ceb809cb11ea83393af9d395e2bf[[1]][[\"cross\"]]), filename_4c9c5d4609cb11ea915a3af9d395e2bf)\n",
    "file_4c9c5c5409cb11eaacf73af9d395e2bf = file(filename_4c9c5d4609cb11ea915a3af9d395e2bf, \"rb\")\n",
    "bin64_4c9c5da809cb11eab4193af9d395e2bf = readBin(file_4c9c5c5409cb11eaacf73af9d395e2bf, \"raw\", file.size(filename_4c9c5d4609cb11ea915a3af9d395e2bf) + 1000)\n",
    "IRdisplay:::display_raw(\"application/selective.inference\", TRUE, NULL, filename_4c9c5d4609cb11ea915a3af9d395e2bf, list(encoder=\"dataframe\"))\n",
    "close(file_4c9c5c5409cb11eaacf73af9d395e2bf)\n",
    "unlink(filename_4c9c5d4609cb11ea915a3af9d395e2bf)\n"
   ]
  }
 ],
 "metadata": {
  "celltoolbar": "Edit Metadata",
  "jupytext": {
   "cell_metadata_filter": "all,-slideshow"
  },
  "kernelspec": {
   "display_name": "R",
   "language": "R",
   "name": "ir"
  },
  "language_info": {
   "codemirror_mode": "r",
   "file_extension": ".r",
   "mimetype": "text/x-r-source",
   "name": "R",
   "pygments_lexer": "r",
   "version": "3.6.1"
  }
 },
 "nbformat": 4,
 "nbformat_minor": 2
}
