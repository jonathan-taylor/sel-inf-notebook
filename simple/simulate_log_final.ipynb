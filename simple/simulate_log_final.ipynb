{
 "cells": [
  {
   "cell_type": "code",
   "execution_count": 1,
   "metadata": {},
   "outputs": [],
   "source": [
    "\n",
    "importFrom  <- function(filename, obj_names, where) {\n",
    "    if (missing(obj_names)) { ## import everything\n",
    "    source(filename, local = FALSE)\n",
    "    } else {\n",
    "        e  <- new.env()\n",
    "        return_env = new.env()\n",
    "        source(filename, local = e)\n",
    "        #if (missing(where)) where = parent.env(parent.env(e))\n",
    "        for (obj in obj_names) {\n",
    "            assign(x = obj, value = get(x = obj, envir = e), envir = return_env)\n",
    "        }\n",
    "    }\n",
    "    invisible(TRUE)\n",
    "    return(return_env)\n",
    "}\n",
    "\n",
    "if (! exists(\"data_6ff7eb8209cb11eab62f3af9d395e2bf\")) { data_6ff7eb8209cb11eab62f3af9d395e2bf = list() }\n",
    "variable_6ff95a5809cb11ea81343af9d395e2bf = c(\"stage1\", \"stage2\")\n",
    "data_6ff7eb8209cb11eab62f3af9d395e2bf = importFrom(\"simple/load_data.R\", variable_6ff95a5809cb11ea81343af9d395e2bf)\n",
    "for (var_6ff95b7a09cb11ea93e23af9d395e2bf in variable_6ff95a5809cb11ea81343af9d395e2bf) { assign(var_6ff95b7a09cb11ea93e23af9d395e2bf, get(var_6ff95b7a09cb11ea93e23af9d395e2bf, env=data_6ff7eb8209cb11eab62f3af9d395e2bf))}\n"
   ]
  },
  {
   "cell_type": "code",
   "execution_count": 16,
   "metadata": {
    "collapsed": true,
    "data_input": [
     "simple/load_data.R",
     [
      "stage1",
      "stage2"
     ]
    ]
   },
   "outputs": [],
   "source": [
    "#NULL cell where data is loaded"
   ]
  },
  {
   "cell_type": "code",
   "execution_count": 17,
   "metadata": {
    "capture_selection": [
     {
      "encoder": "dataframe",
      "name": "mytest",
      "selection_type": "set"
     }
    ]
   },
   "outputs": [],
   "source": [
    "mytest = abs(mean(stage1[['X1']])) > 2 / sqrt(nrow(stage1))"
   ]
  },
  {
   "cell_type": "code",
   "execution_count": 4,
   "metadata": {},
   "outputs": [],
   "source": [
    "analysis_selection_704f12cc09cb11ea93523af9d395e2bf = list();\n",
    "analysis_selection_704f12cc09cb11ea93523af9d395e2bf[[\"mytest\"]] = mytest;\n"
   ]
  },
  {
   "cell_type": "code",
   "execution_count": 19,
   "metadata": {
    "collapsed": true,
    "data_model": {
     "estimators": "compute_estimators",
     "resample_data": "resample_data",
     "sufficient_statistics": "compute_sufficient_statistics",
     "variances": "estimate_var"
    },
    "functions": "stats_computations"
   },
   "outputs": [],
   "source": [
    "compute_sufficient_statistics <- function(selection) {\n",
    "    suff_stat = sum(stage1[['X1']])\n",
    "    names(suff_stat) = 'X1'\n",
    "    return(as.data.frame(t(suff_stat)))\n",
    "}\n",
    "\n",
    "compute_estimators <- function(selection) {\n",
    "    suff_stat = compute_sufficient_statistics(selection)\n",
    "    value = suff_stat[['X1']] / nrow(stage1)\n",
    "    names(value) = 'X1'\n",
    "    indicator = function(sim_selection) {\n",
    "        return(sim_selection[['mytest']] == TRUE)\n",
    "    }\n",
    "    return(list(X1=list(value=value, identifier='X1', indicator=indicator)))\n",
    "}\n",
    "\n",
    "estimate_var <- function(selection) {\n",
    "    variance = var(c(stage1[['X1']]))\n",
    "    cross = variance\n",
    "    names(cross) = 'X1'\n",
    "    names(variance) = 'X1'\n",
    "    return(list(X1=list(identifier='X1', var=variance / nrow(stage1),\n",
    "                            cross=cross)))\n",
    "}\n",
    "\n",
    "\n",
    "resample_data <- function(data, selection) {\n",
    "    stage1 = data[[\"stage1\"]]\n",
    "    stage2 = data[[\"stage2\"]]\n",
    "    \n",
    "    vars = apply(stage1, 2, var)\n",
    "    \n",
    "    means = apply(stage1, 2, mean)\n",
    "    \n",
    "    stage1_sim = stage1\n",
    "    stage1_sim[['X1']] = rnorm(nrow(stage1)) * sqrt(vars[['X1']]) * (0.2 + 1.6 * runif(1)) + means[['X1']]\n",
    "    stage2_sim = stage2\n",
    "    \n",
    "    sim_env = new.env()\n",
    "    assign('stage1', as.data.frame(stage1_sim), env=sim_env)\n",
    "    assign('stage2', as.data.frame(stage2_sim), env=sim_env)\n",
    "    return(sim_env)\n",
    "    \n",
    "}\n",
    "\n"
   ]
  },
  {
   "cell_type": "code",
   "execution_count": 6,
   "metadata": {},
   "outputs": [],
   "source": [
    "suff_stat_7073761209cb11eaa8e63af9d395e2bf = compute_sufficient_statistics(analysis_selection_704f12cc09cb11ea93523af9d395e2bf);"
   ]
  },
  {
   "cell_type": "code",
   "execution_count": 7,
   "metadata": {},
   "outputs": [
    {
     "data": {
      "application/selective.inference": "RkVBMQAAAABbn8wkIhU9wBQAAAAAAA4AFAAAAAwABAAIAAAADgAAABAAAAACAAAAAQAAAAAA\nAAABAAAAFAAAAAAADgAQAAQACAAAAAAADAAOAAAAFAAAACgAAAAEAAAAAAAAAAAAAAACAAAA\nWDEAABAAIAAHAAAACAAQAAAAGAAQAAAAAAAACggAAAAAAAAAAQAAAAAAAAAIAAAAAAAAAJAA\nAABGRUEx"
     },
     "metadata": {
      "encoder": "dataframe"
     },
     "output_type": "display_data"
    }
   ],
   "source": [
    "\n",
    "library(feather)\n",
    "filename_7081086809cb11ea9ed43af9d395e2bf = tempfile()\n",
    "feather::write_feather(suff_stat_7073761209cb11eaa8e63af9d395e2bf, filename_7081086809cb11ea9ed43af9d395e2bf)\n",
    "file_7081078209cb11ea8dab3af9d395e2bf = file(filename_7081086809cb11ea9ed43af9d395e2bf, \"rb\")\n",
    "bin64_708108b809cb11eaacb73af9d395e2bf = readBin(file_7081078209cb11ea8dab3af9d395e2bf, \"raw\", file.size(filename_7081086809cb11ea9ed43af9d395e2bf) + 1000)\n",
    "IRdisplay:::display_raw(\"application/selective.inference\", TRUE, NULL, filename_7081086809cb11ea9ed43af9d395e2bf, list(encoder=\"dataframe\"))\n",
    "close(file_7081078209cb11ea8dab3af9d395e2bf)\n",
    "unlink(filename_7081086809cb11ea9ed43af9d395e2bf)\n"
   ]
  },
  {
   "cell_type": "code",
   "execution_count": 8,
   "metadata": {},
   "outputs": [],
   "source": [
    "result_709ad85809cb11eab68e3af9d395e2bf = compute_estimators(analysis_selection_704f12cc09cb11ea93523af9d395e2bf)\n",
    "variance_709ada8609cb11eab1ff3af9d395e2bf = estimate_var(analysis_selection_704f12cc09cb11ea93523af9d395e2bf)\n",
    "estimates_709ada4a09cb11eaa61d3af9d395e2bf = c();\n",
    "names_709ad9b409cb11eaaaea3af9d395e2bf = c();\n",
    "for (val_709ad95a09cb11ea8aa83af9d395e2bf in result_709ad85809cb11eab68e3af9d395e2bf) {\n",
    "    names_709ad9b409cb11eaaaea3af9d395e2bf = c(names_709ad9b409cb11eaaaea3af9d395e2bf, val_709ad95a09cb11ea8aa83af9d395e2bf[['identifier']])\n",
    "    estimates_709ada4a09cb11eaa61d3af9d395e2bf = c(estimates_709ada4a09cb11eaa61d3af9d395e2bf, val_709ad95a09cb11ea8aa83af9d395e2bf[['value']])\n",
    "}\n",
    "names(estimates_709ada4a09cb11eaa61d3af9d395e2bf) = names_709ad9b409cb11eaaaea3af9d395e2bf\n",
    "estimates_709ada4a09cb11eaa61d3af9d395e2bf = as.data.frame(as.matrix(t(estimates_709ada4a09cb11eaa61d3af9d395e2bf)))\n"
   ]
  },
  {
   "cell_type": "code",
   "execution_count": 9,
   "metadata": {},
   "outputs": [
    {
     "data": {
      "application/selective.inference": "RkVBMQAAAAC/W+mm4pzCvxQAAAAAAA4AFAAAAAwABAAIAAAADgAAABAAAAACAAAAAQAAAAAA\nAAABAAAAFAAAAAAADgAQAAQACAAAAAAADAAOAAAAFAAAACgAAAAEAAAAAAAAAAAAAAACAAAA\nWDEAABAAIAAHAAAACAAQAAAAGAAQAAAAAAAACggAAAAAAAAAAQAAAAAAAAAIAAAAAAAAAJAA\nAABGRUEx"
     },
     "metadata": {
      "encoder": "dataframe"
     },
     "output_type": "display_data"
    }
   ],
   "source": [
    "\n",
    "library(feather)\n",
    "filename_70aae44c09cb11eab4e83af9d395e2bf = tempfile()\n",
    "feather::write_feather(estimates_709ada4a09cb11eaa61d3af9d395e2bf, filename_70aae44c09cb11eab4e83af9d395e2bf)\n",
    "file_70aae37a09cb11ea83f13af9d395e2bf = file(filename_70aae44c09cb11eab4e83af9d395e2bf, \"rb\")\n",
    "bin64_70aae4a809cb11eaa5ae3af9d395e2bf = readBin(file_70aae37a09cb11ea83f13af9d395e2bf, \"raw\", file.size(filename_70aae44c09cb11eab4e83af9d395e2bf) + 1000)\n",
    "IRdisplay:::display_raw(\"application/selective.inference\", TRUE, NULL, filename_70aae44c09cb11eab4e83af9d395e2bf, list(encoder=\"dataframe\"))\n",
    "close(file_70aae37a09cb11ea83f13af9d395e2bf)\n",
    "unlink(filename_70aae44c09cb11eab4e83af9d395e2bf)\n"
   ]
  },
  {
   "cell_type": "code",
   "execution_count": 10,
   "metadata": {},
   "outputs": [
    {
     "data": {
      "application/selective.inference": "RkVBMQAAAADpKG6f0f50PxQAAAAAAA4AGAAAAAwABAAIAAAADgAAABQAAAACAAAAAQAAAAAA\nAAAAAAAAAQAAABQAAAAAAA4AEAAEAAgAAAAAAAwADgAAABQAAABcAAAABAAAAAAAAAAAAAAA\nNwAAAHZhcmlhbmNlXzcwOWFkYTg2MDljYjExZWFiMWZmM2FmOWQzOTVlMmJmW1sxXV1bWyJ2\nYXIiXV0AEAAgAAcAAAAIABAAAAAYABAAAAAAAAAKCAAAAAAAAAABAAAAAAAAAAgAAAAAAAAA\nyAAAAEZFQTE="
     },
     "metadata": {
      "encoder": "dataframe"
     },
     "output_type": "display_data"
    }
   ],
   "source": [
    "\n",
    "library(feather)\n",
    "filename_70dd65f409cb11eaa6383af9d395e2bf = tempfile()\n",
    "feather::write_feather(as.data.frame(variance_709ada8609cb11eab1ff3af9d395e2bf[[1]][[\"var\"]]), filename_70dd65f409cb11eaa6383af9d395e2bf)\n",
    "file_70dd652c09cb11ea82903af9d395e2bf = file(filename_70dd65f409cb11eaa6383af9d395e2bf, \"rb\")\n",
    "bin64_70dd664c09cb11ea95b83af9d395e2bf = readBin(file_70dd652c09cb11ea82903af9d395e2bf, \"raw\", file.size(filename_70dd65f409cb11eaa6383af9d395e2bf) + 1000)\n",
    "IRdisplay:::display_raw(\"application/selective.inference\", TRUE, NULL, filename_70dd65f409cb11eaa6383af9d395e2bf, list(encoder=\"dataframe\"))\n",
    "close(file_70dd652c09cb11ea82903af9d395e2bf)\n",
    "unlink(filename_70dd65f409cb11eaa6383af9d395e2bf)\n"
   ]
  },
  {
   "cell_type": "code",
   "execution_count": 11,
   "metadata": {},
   "outputs": [
    {
     "data": {
      "application/selective.inference": "RkVBMQAAAAD2D47EE2fwPxQAAAAAAA4AFAAAAAwABAAIAAAADgAAABAAAAACAAAAAQAAAAAA\nAAABAAAAFAAAAAAADgAQAAQACAAAAAAADAAOAAAAFAAAAGAAAAAEAAAAAAAAAAAAAAA5AAAA\ndmFyaWFuY2VfNzA5YWRhODYwOWNiMTFlYWIxZmYzYWY5ZDM5NWUyYmZbWzFdXVtbImNyb3Nz\nIl1dAAAAEAAgAAcAAAAIABAAAAAYABAAAAAAAAAKCAAAAAAAAAABAAAAAAAAAAgAAAAAAAAA\nyAAAAEZFQTE="
     },
     "metadata": {
      "encoder": "dataframe"
     },
     "output_type": "display_data"
    }
   ],
   "source": [
    "\n",
    "library(feather)\n",
    "filename_70fa8f5809cb11eaac053af9d395e2bf = tempfile()\n",
    "feather::write_feather(as.data.frame(variance_709ada8609cb11eab1ff3af9d395e2bf[[1]][[\"cross\"]]), filename_70fa8f5809cb11eaac053af9d395e2bf)\n",
    "file_70fa8e8609cb11ea8bf83af9d395e2bf = file(filename_70fa8f5809cb11eaac053af9d395e2bf, \"rb\")\n",
    "bin64_70fa8fb409cb11eabe7e3af9d395e2bf = readBin(file_70fa8e8609cb11ea8bf83af9d395e2bf, \"raw\", file.size(filename_70fa8f5809cb11eaac053af9d395e2bf) + 1000)\n",
    "IRdisplay:::display_raw(\"application/selective.inference\", TRUE, NULL, filename_70fa8f5809cb11eaac053af9d395e2bf, list(encoder=\"dataframe\"))\n",
    "close(file_70fa8e8609cb11ea8bf83af9d395e2bf)\n",
    "unlink(filename_70fa8f5809cb11eaac053af9d395e2bf)\n"
   ]
  },
  {
   "cell_type": "code",
   "execution_count": 13,
   "metadata": {},
   "outputs": [],
   "source": [
    "simulated_data_71a625de09cb11ea8c3d3af9d395e2bf = resample_data(data_6ff7eb8209cb11eab62f3af9d395e2bf, analysis_selection_704f12cc09cb11ea93523af9d395e2bf)\n",
    "for(key_71a6272809cb11ea99d73af9d395e2bf in names(simulated_data_71a625de09cb11ea8c3d3af9d395e2bf)) {\n",
    "  assign(key_71a6272809cb11ea99d73af9d395e2bf, get(key_71a6272809cb11ea99d73af9d395e2bf, env=simulated_data_71a625de09cb11ea8c3d3af9d395e2bf))\n",
    "}"
   ]
  },
  {
   "cell_type": "code",
   "execution_count": 14,
   "metadata": {},
   "outputs": [],
   "source": [
    "\n",
    "if (! exists(\"collector_71f1b22e09cb11eabe793af9d395e2bf\")) { collector_71f1b22e09cb11eabe793af9d395e2bf = list() }"
   ]
  },
  {
   "cell_type": "code",
   "execution_count": 15,
   "metadata": {},
   "outputs": [],
   "source": [
    "simulated_selection_72201a7e09cb11ea9db83af9d395e2bf = list();\n"
   ]
  },
  {
   "cell_type": "code",
   "execution_count": 16,
   "metadata": {
    "collapsed": true,
    "data_input": [
     "simple/load_data.R",
     [
      "stage1",
      "stage2"
     ]
    ]
   },
   "outputs": [],
   "source": [
    "#NULL cell where data is loaded"
   ]
  },
  {
   "cell_type": "code",
   "execution_count": 17,
   "metadata": {
    "capture_selection": [
     {
      "encoder": "dataframe",
      "name": "mytest",
      "selection_type": "set"
     }
    ]
   },
   "outputs": [],
   "source": [
    "mytest = abs(mean(stage1[['X1']])) > 2 / sqrt(nrow(stage1))"
   ]
  },
  {
   "cell_type": "code",
   "execution_count": 18,
   "metadata": {},
   "outputs": [],
   "source": [
    "simulated_selection_72201a7e09cb11ea9db83af9d395e2bf[[\"mytest\"]] = mytest;\n"
   ]
  },
  {
   "cell_type": "code",
   "execution_count": 19,
   "metadata": {
    "collapsed": true,
    "data_model": {
     "estimators": "compute_estimators",
     "resample_data": "resample_data",
     "sufficient_statistics": "compute_sufficient_statistics",
     "variances": "estimate_var"
    },
    "functions": "stats_computations"
   },
   "outputs": [],
   "source": [
    "compute_sufficient_statistics <- function(selection) {\n",
    "    suff_stat = sum(stage1[['X1']])\n",
    "    names(suff_stat) = 'X1'\n",
    "    return(as.data.frame(t(suff_stat)))\n",
    "}\n",
    "\n",
    "compute_estimators <- function(selection) {\n",
    "    suff_stat = compute_sufficient_statistics(selection)\n",
    "    value = suff_stat[['X1']] / nrow(stage1)\n",
    "    names(value) = 'X1'\n",
    "    indicator = function(sim_selection) {\n",
    "        return(sim_selection[['mytest']] == TRUE)\n",
    "    }\n",
    "    return(list(X1=list(value=value, identifier='X1', indicator=indicator)))\n",
    "}\n",
    "\n",
    "estimate_var <- function(selection) {\n",
    "    variance = var(c(stage1[['X1']]))\n",
    "    cross = variance\n",
    "    names(cross) = 'X1'\n",
    "    names(variance) = 'X1'\n",
    "    return(list(X1=list(identifier='X1', var=variance / nrow(stage1),\n",
    "                            cross=cross)))\n",
    "}\n",
    "\n",
    "\n",
    "resample_data <- function(data, selection) {\n",
    "    stage1 = data[[\"stage1\"]]\n",
    "    stage2 = data[[\"stage2\"]]\n",
    "    \n",
    "    vars = apply(stage1, 2, var)\n",
    "    \n",
    "    means = apply(stage1, 2, mean)\n",
    "    \n",
    "    stage1_sim = stage1\n",
    "    stage1_sim[['X1']] = rnorm(nrow(stage1)) * sqrt(vars[['X1']]) * (0.2 + 1.6 * runif(1)) + means[['X1']]\n",
    "    stage2_sim = stage2\n",
    "    \n",
    "    sim_env = new.env()\n",
    "    assign('stage1', as.data.frame(stage1_sim), env=sim_env)\n",
    "    assign('stage2', as.data.frame(stage2_sim), env=sim_env)\n",
    "    return(sim_env)\n",
    "    \n",
    "}\n",
    "\n"
   ]
  },
  {
   "cell_type": "code",
   "execution_count": 20,
   "metadata": {},
   "outputs": [],
   "source": [
    "suff_stat_72a5d7e209cb11ea96173af9d395e2bf = compute_sufficient_statistics(analysis_selection_704f12cc09cb11ea93523af9d395e2bf);"
   ]
  },
  {
   "cell_type": "code",
   "execution_count": 21,
   "metadata": {},
   "outputs": [],
   "source": [
    "collector_71f1b22e09cb11eabe793af9d395e2bf[['suff_stat_72a5d7e209cb11ea96173af9d395e2bf']] = rbind(collector_71f1b22e09cb11eabe793af9d395e2bf[['suff_stat_72a5d7e209cb11ea96173af9d395e2bf']],suff_stat_72a5d7e209cb11ea96173af9d395e2bf)\n"
   ]
  },
  {
   "cell_type": "code",
   "execution_count": 22,
   "metadata": {},
   "outputs": [],
   "source": [
    "result_72c7fec609cb11ea98653af9d395e2bf = compute_estimators(analysis_selection_704f12cc09cb11ea93523af9d395e2bf)\n",
    "indicator_72c800b809cb11ea84b23af9d395e2bf = c();\n",
    "names_72c8000609cb11eaaed33af9d395e2bf = c();\n",
    "for (val_72c7ffa809cb11eaaf6d3af9d395e2bf in result_72c7fec609cb11ea98653af9d395e2bf) {\n",
    "    names_72c8000609cb11eaaed33af9d395e2bf = c(names_72c8000609cb11eaaed33af9d395e2bf, val_72c7ffa809cb11eaaf6d3af9d395e2bf[['identifier']])\n",
    "    indicator_72c800b809cb11ea84b23af9d395e2bf = c(indicator_72c800b809cb11ea84b23af9d395e2bf, val_72c7ffa809cb11eaaf6d3af9d395e2bf[['indicator']](simulated_selection_72201a7e09cb11ea9db83af9d395e2bf))\n",
    "}\n",
    "names(indicator_72c800b809cb11ea84b23af9d395e2bf) = names_72c8000609cb11eaaed33af9d395e2bf\n",
    "indicator_72c800b809cb11ea84b23af9d395e2bf = as.data.frame(as.matrix(t(indicator_72c800b809cb11ea84b23af9d395e2bf)))\n"
   ]
  },
  {
   "cell_type": "code",
   "execution_count": 23,
   "metadata": {},
   "outputs": [],
   "source": [
    "collector_71f1b22e09cb11eabe793af9d395e2bf[['indicator_72c800b809cb11ea84b23af9d395e2bf']] = rbind(collector_71f1b22e09cb11eabe793af9d395e2bf[['indicator_72c800b809cb11ea84b23af9d395e2bf']],indicator_72c800b809cb11ea84b23af9d395e2bf)\n"
   ]
  },
  {
   "cell_type": "code",
   "execution_count": 24,
   "metadata": {},
   "outputs": [],
   "source": [
    "data_analysis_scooby = function(collector_71f1b22e09cb11eabe793af9d395e2bf) {\n",
    " \n",
    "#BEGINCELL\n",
    "\n",
    "    simulated_data_71a625de09cb11ea8c3d3af9d395e2bf = resample_data(data_6ff7eb8209cb11eab62f3af9d395e2bf, analysis_selection_704f12cc09cb11ea93523af9d395e2bf)\n",
    "    for(key_71a6272809cb11ea99d73af9d395e2bf in names(simulated_data_71a625de09cb11ea8c3d3af9d395e2bf)) {\n",
    "      assign(key_71a6272809cb11ea99d73af9d395e2bf, get(key_71a6272809cb11ea99d73af9d395e2bf, env=simulated_data_71a625de09cb11ea8c3d3af9d395e2bf))\n",
    "    }\n",
    "#ENDCELL\n",
    "\n",
    "\n",
    "#BEGINCELL\n",
    "\n",
    "    \n",
    "    if (! exists(\"collector_71f1b22e09cb11eabe793af9d395e2bf\")) { collector_71f1b22e09cb11eabe793af9d395e2bf = list() }\n",
    "#ENDCELL\n",
    "\n",
    "\n",
    "#BEGINCELL\n",
    "\n",
    "    simulated_selection_72201a7e09cb11ea9db83af9d395e2bf = list();\n",
    "    \n",
    "#ENDCELL\n",
    "\n",
    "\n",
    "#BEGINCELL\n",
    "\n",
    "    #NULL cell where data is loaded\n",
    "#ENDCELL\n",
    "\n",
    "\n",
    "#BEGINCELL\n",
    "\n",
    "    mytest = abs(mean(stage1[['X1']])) > 2 / sqrt(nrow(stage1))\n",
    "#ENDCELL\n",
    "\n",
    "\n",
    "#BEGINCELL\n",
    "\n",
    "    simulated_selection_72201a7e09cb11ea9db83af9d395e2bf[[\"mytest\"]] = mytest;\n",
    "    \n",
    "#ENDCELL\n",
    "\n",
    "\n",
    "#BEGINCELL\n",
    "\n",
    "    compute_sufficient_statistics <- function(selection) {\n",
    "        suff_stat = sum(stage1[['X1']])\n",
    "        names(suff_stat) = 'X1'\n",
    "        return(as.data.frame(t(suff_stat)))\n",
    "    }\n",
    "    \n",
    "    compute_estimators <- function(selection) {\n",
    "        suff_stat = compute_sufficient_statistics(selection)\n",
    "        value = suff_stat[['X1']] / nrow(stage1)\n",
    "        names(value) = 'X1'\n",
    "        indicator = function(sim_selection) {\n",
    "            return(sim_selection[['mytest']] == TRUE)\n",
    "        }\n",
    "        return(list(X1=list(value=value, identifier='X1', indicator=indicator)))\n",
    "    }\n",
    "    \n",
    "    estimate_var <- function(selection) {\n",
    "        variance = var(c(stage1[['X1']]))\n",
    "        cross = variance\n",
    "        names(cross) = 'X1'\n",
    "        names(variance) = 'X1'\n",
    "        return(list(X1=list(identifier='X1', var=variance / nrow(stage1),\n",
    "                                cross=cross)))\n",
    "    }\n",
    "    \n",
    "    \n",
    "    resample_data <- function(data, selection) {\n",
    "        stage1 = data[[\"stage1\"]]\n",
    "        stage2 = data[[\"stage2\"]]\n",
    "        \n",
    "        vars = apply(stage1, 2, var)\n",
    "        \n",
    "        means = apply(stage1, 2, mean)\n",
    "        \n",
    "        stage1_sim = stage1\n",
    "        stage1_sim[['X1']] = rnorm(nrow(stage1)) * sqrt(vars[['X1']]) * (0.2 + 1.6 * runif(1)) + means[['X1']]\n",
    "        stage2_sim = stage2\n",
    "        \n",
    "        sim_env = new.env()\n",
    "        assign('stage1', as.data.frame(stage1_sim), env=sim_env)\n",
    "        assign('stage2', as.data.frame(stage2_sim), env=sim_env)\n",
    "        return(sim_env)\n",
    "        \n",
    "    }\n",
    "    \n",
    "    \n",
    "#ENDCELL\n",
    "\n",
    "\n",
    "#BEGINCELL\n",
    "\n",
    "    suff_stat_72a5d7e209cb11ea96173af9d395e2bf = compute_sufficient_statistics(analysis_selection_704f12cc09cb11ea93523af9d395e2bf);\n",
    "#ENDCELL\n",
    "\n",
    "\n",
    "#BEGINCELL\n",
    "\n",
    "    collector_71f1b22e09cb11eabe793af9d395e2bf[['suff_stat_72a5d7e209cb11ea96173af9d395e2bf']] = rbind(collector_71f1b22e09cb11eabe793af9d395e2bf[['suff_stat_72a5d7e209cb11ea96173af9d395e2bf']],suff_stat_72a5d7e209cb11ea96173af9d395e2bf)\n",
    "    \n",
    "#ENDCELL\n",
    "\n",
    "\n",
    "#BEGINCELL\n",
    "\n",
    "    result_72c7fec609cb11ea98653af9d395e2bf = compute_estimators(analysis_selection_704f12cc09cb11ea93523af9d395e2bf)\n",
    "    indicator_72c800b809cb11ea84b23af9d395e2bf = c();\n",
    "    names_72c8000609cb11eaaed33af9d395e2bf = c();\n",
    "    for (val_72c7ffa809cb11eaaf6d3af9d395e2bf in result_72c7fec609cb11ea98653af9d395e2bf) {\n",
    "        names_72c8000609cb11eaaed33af9d395e2bf = c(names_72c8000609cb11eaaed33af9d395e2bf, val_72c7ffa809cb11eaaf6d3af9d395e2bf[['identifier']])\n",
    "        indicator_72c800b809cb11ea84b23af9d395e2bf = c(indicator_72c800b809cb11ea84b23af9d395e2bf, val_72c7ffa809cb11eaaf6d3af9d395e2bf[['indicator']](simulated_selection_72201a7e09cb11ea9db83af9d395e2bf))\n",
    "    }\n",
    "    names(indicator_72c800b809cb11ea84b23af9d395e2bf) = names_72c8000609cb11eaaed33af9d395e2bf\n",
    "    indicator_72c800b809cb11ea84b23af9d395e2bf = as.data.frame(as.matrix(t(indicator_72c800b809cb11ea84b23af9d395e2bf)))\n",
    "    \n",
    "#ENDCELL\n",
    "\n",
    "\n",
    "#BEGINCELL\n",
    "\n",
    "    collector_71f1b22e09cb11eabe793af9d395e2bf[['indicator_72c800b809cb11ea84b23af9d395e2bf']] = rbind(collector_71f1b22e09cb11eabe793af9d395e2bf[['indicator_72c800b809cb11ea84b23af9d395e2bf']],indicator_72c800b809cb11ea84b23af9d395e2bf)\n",
    "    \n",
    "#ENDCELL\n",
    "\n",
    " ; return(collector_71f1b22e09cb11eabe793af9d395e2bf) }\n"
   ]
  },
  {
   "cell_type": "code",
   "execution_count": 25,
   "metadata": {},
   "outputs": [],
   "source": [
    "for(i in 1:8000) { collector_71f1b22e09cb11eabe793af9d395e2bf = data_analysis_scooby(collector_71f1b22e09cb11eabe793af9d395e2bf)}"
   ]
  }
 ],
 "metadata": {
  "celltoolbar": "Edit Metadata",
  "jupytext": {
   "cell_metadata_filter": "all,-slideshow"
  },
  "kernelspec": {
   "display_name": "R",
   "language": "R",
   "name": "ir"
  },
  "language_info": {
   "codemirror_mode": "r",
   "file_extension": ".r",
   "mimetype": "text/x-r-source",
   "name": "R",
   "pygments_lexer": "r",
   "version": "3.6.1"
  }
 },
 "nbformat": 4,
 "nbformat_minor": 2
}
