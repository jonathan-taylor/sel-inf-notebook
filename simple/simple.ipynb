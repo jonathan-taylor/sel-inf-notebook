{
 "cells": [
  {
   "cell_type": "markdown",
   "metadata": {},
   "source": [
    "# Drop the Losers Experiment\n",
    "\n",
    "https://www.ncbi.nlm.nih.gov/pubmed/16053251\n",
    "\n",
    "https://onlinelibrary.wiley.com/doi/epdf/10.1002/bimj.200410119\n",
    "\n",
    "https://www.oatext.com/pdf/CRT-3-186.pdf\n",
    "\n",
    "https://searchworks.stanford.edu/articles/edo__ejs22481119"
   ]
  },
  {
   "cell_type": "markdown",
   "metadata": {},
   "source": [
    "## Step 1\n",
    "\n",
    "Let $k$ be the number of \"treatments.\" Generate $Y_1, \\dots, Y_k$, where $Y_i \\in \\mathbb{R}^{n_i}$ for any natural $n_i$. Think of the vectors $Y_i$ as lists of observations for each treatment $i \\in \\{1, \\dots, k\\}$.\n",
    "\n",
    "Define $Y_i \\sim N(\\mu_i, \\sigma^2)$ (*note $\\sigma^2$ is constant across all classes*).\n",
    "\n",
    "Define $i^* = \\arg\\max(\\bar{Y}_i)$."
   ]
  },
  {
   "cell_type": "code",
   "execution_count": 1,
   "metadata": {
    "collapsed": true,
    "data_input": [
     "simple/load_data.R",
     [
      "stage1",
      "stage2"
     ]
    ]
   },
   "outputs": [],
   "source": [
    "#NULL cell where data is loaded"
   ]
  },
  {
   "cell_type": "code",
   "execution_count": 1,
   "metadata": {
    "capture_selection": [
     {
      "encoder": "dataframe",
      "name": "mytest",
      "selection_type": "set"
     }
    ]
   },
   "outputs": [
    {
     "ename": "ERROR",
     "evalue": "Error in mean(stage1[[\"X1\"]]): object 'stage1' not found\n",
     "output_type": "error",
     "traceback": [
      "Error in mean(stage1[[\"X1\"]]): object 'stage1' not found\nTraceback:\n",
      "1. mean(stage1[[\"X1\"]])"
     ]
    }
   ],
   "source": [
    "mytest = abs(mean(stage1[['X1']])) > 2 / sqrt(nrow(stage1))"
   ]
  },
  {
   "cell_type": "markdown",
   "metadata": {},
   "source": [
    "## Step 2\n",
    "\n",
    "Let $m$ be the sample size for an additional experiment on the optimal treatment $i^*$.\n",
    "\n",
    "Define $W \\sim N(\\mu_{i^*}, \\sigma^2)$, where $W \\in \\mathbb{R}^m$.\n",
    "\n",
    "Define $\\mu_{i^*} = \\frac{n_{i^*} \\bar{Y}_{i^*} + \\bar{W}}{n_{i^*} + m}$"
   ]
  },
  {
   "cell_type": "code",
   "execution_count": null,
   "metadata": {
    "collapsed": true,
    "data_model": {
     "estimators": "compute_estimators",
     "resample_data": "resample_data",
     "sufficient_statistics": "compute_sufficient_statistics",
     "variances": "estimate_var"
    },
    "functions": "stats_computations"
   },
   "outputs": [],
   "source": [
    "compute_sufficient_statistics <- function(selection) {\n",
    "    suff_stat = sum(stage1[['X1']])\n",
    "    names(suff_stat) = 'X1'\n",
    "    return(as.data.frame(t(suff_stat)))\n",
    "}\n",
    "\n",
    "compute_estimators <- function(selection) {\n",
    "    suff_stat = compute_sufficient_statistics(selection)\n",
    "    value = suff_stat[['X1']] / nrow(stage1)\n",
    "    names(value) = 'X1'\n",
    "    indicator = function(sim_selection) {\n",
    "        return(sim_selection[['mytest']] == TRUE)\n",
    "    }\n",
    "    return(list(X1=list(value=value, identifier='X1', indicator=indicator)))\n",
    "}\n",
    "\n",
    "estimate_var <- function(selection) {\n",
    "    variance = var(c(stage1[['X1']]))\n",
    "    cross = variance\n",
    "    names(cross) = 'X1'\n",
    "    names(variance) = 'X1'\n",
    "    return(list(X1=list(identifier='X1', var=variance / nrow(stage1),\n",
    "                            cross=cross)))\n",
    "}\n",
    "\n",
    "\n",
    "resample_data <- function(data, selection) {\n",
    "    stage1 = data[[\"stage1\"]]\n",
    "    stage2 = data[[\"stage2\"]]\n",
    "    \n",
    "    vars = apply(stage1, 2, var)\n",
    "    \n",
    "    means = apply(stage1, 2, mean)\n",
    "    \n",
    "    stage1_sim = stage1\n",
    "    stage1_sim[['X1']] = rnorm(nrow(stage1)) * sqrt(vars[['X1']]) * (0.2 + 1.6 * runif(1)) + means[['X1']]\n",
    "    stage2_sim = stage2\n",
    "    \n",
    "    sim_env = new.env()\n",
    "    assign('stage1', as.data.frame(stage1_sim), env=sim_env)\n",
    "    assign('stage2', as.data.frame(stage2_sim), env=sim_env)\n",
    "    return(sim_env)\n",
    "    \n",
    "}\n",
    "\n"
   ]
  },
  {
   "cell_type": "code",
   "execution_count": null,
   "metadata": {
    "collapsed": true
   },
   "outputs": [],
   "source": []
  },
  {
   "cell_type": "code",
   "execution_count": null,
   "metadata": {
    "collapsed": true
   },
   "outputs": [],
   "source": []
  }
 ],
 "metadata": {
  "celltoolbar": "Edit Metadata",
  "jupytext": {
   "cell_metadata_filter": "all,-slideshow"
  },
  "kernelspec": {
   "display_name": "R",
   "language": "R",
   "name": "ir"
  },
  "language_info": {
   "codemirror_mode": "r",
   "file_extension": ".r",
   "mimetype": "text/x-r-source",
   "name": "R",
   "pygments_lexer": "r",
   "version": "3.6.1"
  }
 },
 "nbformat": 4,
 "nbformat_minor": 2
}
