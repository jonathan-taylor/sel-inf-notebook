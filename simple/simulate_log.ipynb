{
 "cells": [
  {
   "cell_type": "code",
   "execution_count": 13,
   "metadata": {},
   "outputs": [],
   "source": [
    "simulated_data_77d551e609cb11eab0643af9d395e2bf = resample_data(data_766be1ba09cb11ea81763af9d395e2bf, analysis_selection_76c074f409cb11eaa7203af9d395e2bf)\n",
    "for(key_77d5530809cb11ea94163af9d395e2bf in names(simulated_data_77d551e609cb11eab0643af9d395e2bf)) {\n",
    "  assign(key_77d5530809cb11ea94163af9d395e2bf, get(key_77d5530809cb11ea94163af9d395e2bf, env=simulated_data_77d551e609cb11eab0643af9d395e2bf))\n",
    "}"
   ]
  },
  {
   "cell_type": "code",
   "execution_count": 14,
   "metadata": {},
   "outputs": [],
   "source": [
    "\n",
    "if (! exists(\"collector_7831b01209cb11ea9e603af9d395e2bf\")) { collector_7831b01209cb11ea9e603af9d395e2bf = list() }"
   ]
  },
  {
   "cell_type": "code",
   "execution_count": 15,
   "metadata": {},
   "outputs": [],
   "source": [
    "simulated_selection_784abc2409cb11eaae663af9d395e2bf = list();\n"
   ]
  },
  {
   "cell_type": "code",
   "execution_count": 16,
   "metadata": {
    "collapsed": true,
    "data_input": [
     "simple/load_data.R",
     [
      "stage1",
      "stage2"
     ]
    ]
   },
   "outputs": [],
   "source": [
    "#NULL cell where data is loaded"
   ]
  },
  {
   "cell_type": "code",
   "execution_count": 17,
   "metadata": {
    "capture_selection": [
     {
      "encoder": "dataframe",
      "name": "mytest",
      "selection_type": "set"
     }
    ]
   },
   "outputs": [],
   "source": [
    "mytest = abs(mean(stage1[['X1']])) > 2 / sqrt(nrow(stage1))"
   ]
  },
  {
   "cell_type": "code",
   "execution_count": 18,
   "metadata": {},
   "outputs": [],
   "source": [
    "simulated_selection_784abc2409cb11eaae663af9d395e2bf[[\"mytest\"]] = mytest;\n"
   ]
  },
  {
   "cell_type": "code",
   "execution_count": 19,
   "metadata": {
    "collapsed": true,
    "data_model": {
     "estimators": "compute_estimators",
     "resample_data": "resample_data",
     "sufficient_statistics": "compute_sufficient_statistics",
     "variances": "estimate_var"
    },
    "functions": "stats_computations"
   },
   "outputs": [],
   "source": [
    "compute_sufficient_statistics <- function(selection) {\n",
    "    suff_stat = sum(stage1[['X1']])\n",
    "    names(suff_stat) = 'X1'\n",
    "    return(as.data.frame(t(suff_stat)))\n",
    "}\n",
    "\n",
    "compute_estimators <- function(selection) {\n",
    "    suff_stat = compute_sufficient_statistics(selection)\n",
    "    value = suff_stat[['X1']] / nrow(stage1)\n",
    "    names(value) = 'X1'\n",
    "    indicator = function(sim_selection) {\n",
    "        return(sim_selection[['mytest']] == TRUE)\n",
    "    }\n",
    "    return(list(X1=list(value=value, identifier='X1', indicator=indicator)))\n",
    "}\n",
    "\n",
    "estimate_var <- function(selection) {\n",
    "    variance = var(c(stage1[['X1']]))\n",
    "    cross = variance\n",
    "    names(cross) = 'X1'\n",
    "    names(variance) = 'X1'\n",
    "    return(list(X1=list(identifier='X1', var=variance / nrow(stage1),\n",
    "                            cross=cross)))\n",
    "}\n",
    "\n",
    "\n",
    "resample_data <- function(data, selection) {\n",
    "    stage1 = data[[\"stage1\"]]\n",
    "    stage2 = data[[\"stage2\"]]\n",
    "    \n",
    "    vars = apply(stage1, 2, var)\n",
    "    \n",
    "    means = apply(stage1, 2, mean)\n",
    "    \n",
    "    stage1_sim = stage1\n",
    "    stage1_sim[['X1']] = rnorm(nrow(stage1)) * sqrt(vars[['X1']]) * (0.2 + 1.6 * runif(1)) + means[['X1']]\n",
    "    stage2_sim = stage2\n",
    "    \n",
    "    sim_env = new.env()\n",
    "    assign('stage1', as.data.frame(stage1_sim), env=sim_env)\n",
    "    assign('stage2', as.data.frame(stage2_sim), env=sim_env)\n",
    "    return(sim_env)\n",
    "    \n",
    "}\n",
    "\n"
   ]
  },
  {
   "cell_type": "code",
   "execution_count": 20,
   "metadata": {},
   "outputs": [],
   "source": [
    "suff_stat_78b42fba09cb11ea82fc3af9d395e2bf = compute_sufficient_statistics(analysis_selection_76c074f409cb11eaa7203af9d395e2bf);"
   ]
  },
  {
   "cell_type": "code",
   "execution_count": 21,
   "metadata": {},
   "outputs": [],
   "source": [
    "collector_7831b01209cb11ea9e603af9d395e2bf[['suff_stat_78b42fba09cb11ea82fc3af9d395e2bf']] = rbind(collector_7831b01209cb11ea9e603af9d395e2bf[['suff_stat_78b42fba09cb11ea82fc3af9d395e2bf']],suff_stat_78b42fba09cb11ea82fc3af9d395e2bf)\n"
   ]
  },
  {
   "cell_type": "code",
   "execution_count": 22,
   "metadata": {},
   "outputs": [],
   "source": [
    "result_78e34fc009cb11eab2aa3af9d395e2bf = compute_estimators(analysis_selection_76c074f409cb11eaa7203af9d395e2bf)\n",
    "indicator_78e3525409cb11ea9a093af9d395e2bf = c();\n",
    "names_78e3516409cb11ea817f3af9d395e2bf = c();\n",
    "for (val_78e350ec09cb11eab3f93af9d395e2bf in result_78e34fc009cb11eab2aa3af9d395e2bf) {\n",
    "    names_78e3516409cb11ea817f3af9d395e2bf = c(names_78e3516409cb11ea817f3af9d395e2bf, val_78e350ec09cb11eab3f93af9d395e2bf[['identifier']])\n",
    "    indicator_78e3525409cb11ea9a093af9d395e2bf = c(indicator_78e3525409cb11ea9a093af9d395e2bf, val_78e350ec09cb11eab3f93af9d395e2bf[['indicator']](simulated_selection_784abc2409cb11eaae663af9d395e2bf))\n",
    "}\n",
    "names(indicator_78e3525409cb11ea9a093af9d395e2bf) = names_78e3516409cb11ea817f3af9d395e2bf\n",
    "indicator_78e3525409cb11ea9a093af9d395e2bf = as.data.frame(as.matrix(t(indicator_78e3525409cb11ea9a093af9d395e2bf)))\n"
   ]
  },
  {
   "cell_type": "code",
   "execution_count": 23,
   "metadata": {},
   "outputs": [],
   "source": [
    "collector_7831b01209cb11ea9e603af9d395e2bf[['indicator_78e3525409cb11ea9a093af9d395e2bf']] = rbind(collector_7831b01209cb11ea9e603af9d395e2bf[['indicator_78e3525409cb11ea9a093af9d395e2bf']],indicator_78e3525409cb11ea9a093af9d395e2bf)\n"
   ]
  },
  {
   "cell_type": "code",
   "execution_count": 24,
   "metadata": {},
   "outputs": [],
   "source": [
    "data_analysis_scooby = function(collector_7831b01209cb11ea9e603af9d395e2bf) {\n",
    " \n",
    "#BEGINCELL\n",
    "\n",
    "    simulated_data_77d551e609cb11eab0643af9d395e2bf = resample_data(data_766be1ba09cb11ea81763af9d395e2bf, analysis_selection_76c074f409cb11eaa7203af9d395e2bf)\n",
    "    for(key_77d5530809cb11ea94163af9d395e2bf in names(simulated_data_77d551e609cb11eab0643af9d395e2bf)) {\n",
    "      assign(key_77d5530809cb11ea94163af9d395e2bf, get(key_77d5530809cb11ea94163af9d395e2bf, env=simulated_data_77d551e609cb11eab0643af9d395e2bf))\n",
    "    }\n",
    "#ENDCELL\n",
    "\n",
    "\n",
    "#BEGINCELL\n",
    "\n",
    "    \n",
    "    if (! exists(\"collector_7831b01209cb11ea9e603af9d395e2bf\")) { collector_7831b01209cb11ea9e603af9d395e2bf = list() }\n",
    "#ENDCELL\n",
    "\n",
    "\n",
    "#BEGINCELL\n",
    "\n",
    "    simulated_selection_784abc2409cb11eaae663af9d395e2bf = list();\n",
    "    \n",
    "#ENDCELL\n",
    "\n",
    "\n",
    "#BEGINCELL\n",
    "\n",
    "    #NULL cell where data is loaded\n",
    "#ENDCELL\n",
    "\n",
    "\n",
    "#BEGINCELL\n",
    "\n",
    "    mytest = abs(mean(stage1[['X1']])) > 2 / sqrt(nrow(stage1))\n",
    "#ENDCELL\n",
    "\n",
    "\n",
    "#BEGINCELL\n",
    "\n",
    "    simulated_selection_784abc2409cb11eaae663af9d395e2bf[[\"mytest\"]] = mytest;\n",
    "    \n",
    "#ENDCELL\n",
    "\n",
    "\n",
    "#BEGINCELL\n",
    "\n",
    "    compute_sufficient_statistics <- function(selection) {\n",
    "        suff_stat = sum(stage1[['X1']])\n",
    "        names(suff_stat) = 'X1'\n",
    "        return(as.data.frame(t(suff_stat)))\n",
    "    }\n",
    "    \n",
    "    compute_estimators <- function(selection) {\n",
    "        suff_stat = compute_sufficient_statistics(selection)\n",
    "        value = suff_stat[['X1']] / nrow(stage1)\n",
    "        names(value) = 'X1'\n",
    "        indicator = function(sim_selection) {\n",
    "            return(sim_selection[['mytest']] == TRUE)\n",
    "        }\n",
    "        return(list(X1=list(value=value, identifier='X1', indicator=indicator)))\n",
    "    }\n",
    "    \n",
    "    estimate_var <- function(selection) {\n",
    "        variance = var(c(stage1[['X1']]))\n",
    "        cross = variance\n",
    "        names(cross) = 'X1'\n",
    "        names(variance) = 'X1'\n",
    "        return(list(X1=list(identifier='X1', var=variance / nrow(stage1),\n",
    "                                cross=cross)))\n",
    "    }\n",
    "    \n",
    "    \n",
    "    resample_data <- function(data, selection) {\n",
    "        stage1 = data[[\"stage1\"]]\n",
    "        stage2 = data[[\"stage2\"]]\n",
    "        \n",
    "        vars = apply(stage1, 2, var)\n",
    "        \n",
    "        means = apply(stage1, 2, mean)\n",
    "        \n",
    "        stage1_sim = stage1\n",
    "        stage1_sim[['X1']] = rnorm(nrow(stage1)) * sqrt(vars[['X1']]) * (0.2 + 1.6 * runif(1)) + means[['X1']]\n",
    "        stage2_sim = stage2\n",
    "        \n",
    "        sim_env = new.env()\n",
    "        assign('stage1', as.data.frame(stage1_sim), env=sim_env)\n",
    "        assign('stage2', as.data.frame(stage2_sim), env=sim_env)\n",
    "        return(sim_env)\n",
    "        \n",
    "    }\n",
    "    \n",
    "    \n",
    "#ENDCELL\n",
    "\n",
    "\n",
    "#BEGINCELL\n",
    "\n",
    "    suff_stat_78b42fba09cb11ea82fc3af9d395e2bf = compute_sufficient_statistics(analysis_selection_76c074f409cb11eaa7203af9d395e2bf);\n",
    "#ENDCELL\n",
    "\n",
    "\n",
    "#BEGINCELL\n",
    "\n",
    "    collector_7831b01209cb11ea9e603af9d395e2bf[['suff_stat_78b42fba09cb11ea82fc3af9d395e2bf']] = rbind(collector_7831b01209cb11ea9e603af9d395e2bf[['suff_stat_78b42fba09cb11ea82fc3af9d395e2bf']],suff_stat_78b42fba09cb11ea82fc3af9d395e2bf)\n",
    "    \n",
    "#ENDCELL\n",
    "\n",
    "\n",
    "#BEGINCELL\n",
    "\n",
    "    result_78e34fc009cb11eab2aa3af9d395e2bf = compute_estimators(analysis_selection_76c074f409cb11eaa7203af9d395e2bf)\n",
    "    indicator_78e3525409cb11ea9a093af9d395e2bf = c();\n",
    "    names_78e3516409cb11ea817f3af9d395e2bf = c();\n",
    "    for (val_78e350ec09cb11eab3f93af9d395e2bf in result_78e34fc009cb11eab2aa3af9d395e2bf) {\n",
    "        names_78e3516409cb11ea817f3af9d395e2bf = c(names_78e3516409cb11ea817f3af9d395e2bf, val_78e350ec09cb11eab3f93af9d395e2bf[['identifier']])\n",
    "        indicator_78e3525409cb11ea9a093af9d395e2bf = c(indicator_78e3525409cb11ea9a093af9d395e2bf, val_78e350ec09cb11eab3f93af9d395e2bf[['indicator']](simulated_selection_784abc2409cb11eaae663af9d395e2bf))\n",
    "    }\n",
    "    names(indicator_78e3525409cb11ea9a093af9d395e2bf) = names_78e3516409cb11ea817f3af9d395e2bf\n",
    "    indicator_78e3525409cb11ea9a093af9d395e2bf = as.data.frame(as.matrix(t(indicator_78e3525409cb11ea9a093af9d395e2bf)))\n",
    "    \n",
    "#ENDCELL\n",
    "\n",
    "\n",
    "#BEGINCELL\n",
    "\n",
    "    collector_7831b01209cb11ea9e603af9d395e2bf[['indicator_78e3525409cb11ea9a093af9d395e2bf']] = rbind(collector_7831b01209cb11ea9e603af9d395e2bf[['indicator_78e3525409cb11ea9a093af9d395e2bf']],indicator_78e3525409cb11ea9a093af9d395e2bf)\n",
    "    \n",
    "#ENDCELL\n",
    "\n",
    " ; return(collector_7831b01209cb11ea9e603af9d395e2bf) }\n"
   ]
  },
  {
   "cell_type": "code",
   "execution_count": null,
   "metadata": {},
   "outputs": [],
   "source": [
    "for(i in 1:8000) { collector_7831b01209cb11ea9e603af9d395e2bf = data_analysis_scooby(collector_7831b01209cb11ea9e603af9d395e2bf)}"
   ]
  }
 ],
 "metadata": {
  "celltoolbar": "Edit Metadata",
  "jupytext": {
   "cell_metadata_filter": "all,-slideshow"
  },
  "kernelspec": {
   "display_name": "R",
   "language": "R",
   "name": "ir"
  },
  "language_info": {
   "codemirror_mode": "r",
   "file_extension": ".r",
   "mimetype": "text/x-r-source",
   "name": "R",
   "pygments_lexer": "r",
   "version": "3.6.1"
  }
 },
 "nbformat": 4,
 "nbformat_minor": 2
}
