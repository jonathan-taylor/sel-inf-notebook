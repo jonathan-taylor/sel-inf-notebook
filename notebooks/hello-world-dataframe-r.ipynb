{
 "cells": [
  {
   "cell_type": "markdown",
   "metadata": {},
   "source": [
    "# \"Hello World\" Example in R"
   ]
  },
  {
   "cell_type": "code",
   "execution_count": 1,
   "metadata": {},
   "outputs": [
    {
     "name": "stderr",
     "output_type": "stream",
     "text": [
      "Loading required package: Matrix\n",
      "Loading required package: foreach\n",
      "Loaded glmnet 2.0-16\n",
      "\n",
      "── \u001b[1mAttaching packages\u001b[22m ─────────────────────────────────────── tidyverse 1.2.1 ──\n",
      "\u001b[32m✔\u001b[39m \u001b[34mggplot2\u001b[39m 3.0.0     \u001b[32m✔\u001b[39m \u001b[34mpurrr  \u001b[39m 0.2.5\n",
      "\u001b[32m✔\u001b[39m \u001b[34mtibble \u001b[39m 1.4.2     \u001b[32m✔\u001b[39m \u001b[34mdplyr  \u001b[39m 0.7.6\n",
      "\u001b[32m✔\u001b[39m \u001b[34mtidyr  \u001b[39m 0.8.1     \u001b[32m✔\u001b[39m \u001b[34mstringr\u001b[39m 1.3.1\n",
      "\u001b[32m✔\u001b[39m \u001b[34mreadr  \u001b[39m 1.1.1     \u001b[32m✔\u001b[39m \u001b[34mforcats\u001b[39m 0.3.0\n",
      "── \u001b[1mConflicts\u001b[22m ────────────────────────────────────────── tidyverse_conflicts() ──\n",
      "\u001b[31m✖\u001b[39m \u001b[34mpurrr\u001b[39m::\u001b[32maccumulate()\u001b[39m masks \u001b[34mforeach\u001b[39m::accumulate()\n",
      "\u001b[31m✖\u001b[39m \u001b[34mtidyr\u001b[39m::\u001b[32mexpand()\u001b[39m     masks \u001b[34mMatrix\u001b[39m::expand()\n",
      "\u001b[31m✖\u001b[39m \u001b[34mdplyr\u001b[39m::\u001b[32mfilter()\u001b[39m     masks \u001b[34mstats\u001b[39m::filter()\n",
      "\u001b[31m✖\u001b[39m \u001b[34mdplyr\u001b[39m::\u001b[32mlag()\u001b[39m        masks \u001b[34mstats\u001b[39m::lag()\n",
      "\u001b[31m✖\u001b[39m \u001b[34mpurrr\u001b[39m::\u001b[32mwhen()\u001b[39m       masks \u001b[34mforeach\u001b[39m::when()\n",
      "\n",
      "Attaching package: ‘MASS’\n",
      "\n",
      "The following object is masked from ‘package:dplyr’:\n",
      "\n",
      "    select\n",
      "\n"
     ]
    }
   ],
   "source": [
    "library(glmnet)\n",
    "library(rjson)\n",
    "library(tidyverse)\n",
    "library(MASS)"
   ]
  },
  {
   "cell_type": "markdown",
   "metadata": {},
   "source": [
    "## Researcher Loads in Data"
   ]
  },
  {
   "cell_type": "code",
   "execution_count": 2,
   "metadata": {
    "collapsed": true,
    "data_input": [
     [
      "X",
      "X.csv"
     ],
     [
      "y",
      "y.csv"
     ]
    ]
   },
   "outputs": [],
   "source": [
    "3\n",
    "4"
   ]
  },
  {
   "cell_type": "markdown",
   "metadata": {},
   "source": [
    "## Selection Algorithm (function)\n",
    "\n",
    "Relevant metadata:\n",
    "\n",
    "```\n",
    "\"capture_selection\": [\n",
    "  {\n",
    "    \"selection_type\": \"set\",\n",
    "    \"encoder\": \"dataframe\",\n",
    "    \"name\": \"selected_vars\"\n",
    "  }\n",
    "```\n",
    "\n",
    "Using a map/dictionary metaphor, the \"keys\" are universal elements of the algorithm. The \"values\" are the corresponding names of these elements in the notebook code.\n",
    "\n",
    "After the initial run of the preprocessor on the full dataset, we add an additional entry to the metadata:\n",
    "\n",
    "```\n",
    "\"original_selection\": \"some base 64 string\"\n",
    "```\n",
    "\n",
    "where `\"some base 64 string\"` is a base 64 string of the dataframe of selected variables"
   ]
  },
  {
   "cell_type": "code",
   "execution_count": 3,
   "metadata": {
    "capture_selection": [
     {
      "encoder": "dataframe",
      "name": "selected_vars",
      "selection_type": "set"
     }
    ],
    "collapsed": true
   },
   "outputs": [],
   "source": [
    "selection_algorithm <- function(X, y) {\n",
    "    n <- nrow(X)\n",
    "    p <- ncol(X)\n",
    "    \n",
    "    min_success <- 6\n",
    "    ntries <- 10\n",
    "    \n",
    "    make_lambda_grid <- function(X, y) {\n",
    "        # Return a vector of lambda values where the corresponding lasso model\n",
    "        # satisfies the following constraint:\n",
    "        #   number of selected variables < sqrt(0.8 * p)\n",
    "        p <- ncol(X)\n",
    "        model <- cv.glmnet(X, y, alpha=1)$glmnet.fit\n",
    "        lambdas <- model$lambda\n",
    "        nselected <- model$df  # number of selected vars for each lambda\n",
    "        return(lambdas[nselected < sqrt(0.8 * p)])\n",
    "    }\n",
    "\n",
    "    lambda_grid <- make_lambda_grid(X, y)\n",
    "    success <- matrix(0, nrow=p, ncol=length(lambda_grid))\n",
    "    \n",
    "    for(i in 1:ntries) {\n",
    "        subsample_indexes <- sample(1:n, floor(n/2), replace=FALSE)\n",
    "        Xsub <- X[subsample_indexes,]\n",
    "        noisy_y <- y[subsample_indexes] + rnorm(floor(n/2))\n",
    "        model <- cv.glmnet(Xsub, noisy_y, alpha=1)\n",
    "        \n",
    "        lambdas <- model$lambda\n",
    "        coefs <- coef(model, lambda_grid)\n",
    "        success <- success + (coefs[-1,] != 0)\n",
    "    }\n",
    "    \n",
    "    selection_fn <- function(x) {\n",
    "        return(sum(x > min_success) > 2)\n",
    "    }\n",
    "    selected <- apply(X=success, MARGIN=2, FUN=selection_fn)\n",
    "    vars <- which(selected != 0)  # indexes of selected lambdas\n",
    "    return(as.numeric(vars))\n",
    "}\n",
    "\n",
    "selected_vars <- selection_algorithm(as.matrix(X), y[,1])\n",
    "selected_vars <- data.frame(selection = selected_vars)\n",
    "#selected_vars"
   ]
  },
  {
   "cell_type": "markdown",
   "metadata": {},
   "source": [
    "## Sufficient Statistics, Estimators, Simulation\n",
    "\n",
    "Relevant metadata:\n",
    "\n",
    "```\n",
    "\"functions\": \"stats_computations\",\n",
    "\"data_model\": {\n",
    "  \"sufficient_statistics\": \"compute_sufficient_statistics\",\n",
    "  \"estimators\": \"compute_estimators\",\n",
    "  \"resample_data\": \"resample_data\"\n",
    "}\n",
    "```\n",
    "\n",
    "The \"keys\" are universal elements of the algorithm. The \"values\" are the corresponding names of these elements in the notebook code."
   ]
  },
  {
   "cell_type": "code",
   "execution_count": 4,
   "metadata": {
    "collapsed": true,
    "data_model": {
     "estimators": "compute_estimators",
     "resample_data": "resample_data",
     "sufficient_statistics": "compute_sufficient_statistics"
    },
    "functions": "stats_computations"
   },
   "outputs": [],
   "source": [
    "# original\n",
    "#compute_sufficient_statistics <- function(X, y, fixed_selection) {\n",
    "#    fixed_selection <- fromJSON(fixed_selection)\n",
    "#    return(list(t(X) %*% y, sum(y^2)))\n",
    "#}\n",
    "\n",
    "# fix attempt\n",
    "compute_sufficient_statistics <- function(data, fixed_selection) {\n",
    "    # Computes the sufficient statistic and returns it as a dataframe\n",
    "    \n",
    "    fixed_selection <- fromJSON(fixed_selection)\n",
    "    X = as.matrix(data[[\"X\"]])\n",
    "    y = as.matrix(data[[\"y\"]])\n",
    "    \n",
    "    suff_stat_1 <- t(X) %*% y\n",
    "    suff_stat_2 <- sum(y^2)\n",
    "    \n",
    "    combined <- c(suff_stat_1, suff_stat_2)\n",
    "    combined  <- data.frame(combined)\n",
    "    \n",
    "    return(combined)\n",
    "}\n",
    "\n",
    "compute_estimators <- function(suff_stat, fixed_sel, set_sel) {\n",
    "    fixed_selection <- fromJSON(fixed_sel)\n",
    "    set_sel <- fromJSON(set_sel)\n",
    "    return(ginv(t(X) %*% X %*% (t(X) %*% y))[set_sel['selected_vars']])\n",
    "}\n",
    "\n",
    "# fix attempt\n",
    "resample_data <- function(data, fixed_sel) {\n",
    "    X = as.matrix(data[[\"X\"]])\n",
    "    y = 0 * as.matrix(data[[\"y\"]])\n",
    "    #fixed_sel <- fromJSON(fixed_sel)\n",
    "    #n <- nrow(X)\n",
    "    #p <- ncol(X)\n",
    "    #resids <- y - X %*% ginv(t(X) %*% X) %*% (t(X) %*% y)\n",
    "    #fitted <- y - resids\n",
    "    \n",
    "    #resampled <- sample(1:n, n, replace=TRUE)\n",
    "    #y_tilde <- fitted + resids[resampled]\n",
    "    y_tilde <- y + rnorm(n = dim(y)[1])\n",
    "    \n",
    "    return(list(X = X, y = y_tilde))\n",
    "}\n",
    "\n",
    "# Test/display resampling\n",
    "#data = list(X = X, y = y)\n",
    "#resample_data(data, selected_vars)"
   ]
  },
  {
   "cell_type": "code",
   "execution_count": 5,
   "metadata": {
    "collapsed": true
   },
   "outputs": [],
   "source": [
    "# Simulate data test\n",
    "#resample_data(data, \"{}\")\n",
    "for(name in names(data)) {\n",
    "    print(name)\n",
    "}\n",
    "\n",
    "#X1 = as.matrix(data[[\"X\"]])\n",
    "#y1 = as.matrix(data[[\"y\"]])\n",
    "#n <- nrow(X1)\n",
    "#p <- ncol(X1)\n",
    "#resids <- y1 - X1 %*% ginv(t(X1) %*% X1) %*% (t(X1) %*% y1)\n",
    "#fitted <- y - resids"
   ]
  },
  {
   "cell_type": "markdown",
   "metadata": {},
   "source": [
    "## Selection Indicators\n",
    "\n",
    "Here, we define two choices of selection indicator functions -- one for fixed selection and one for set selection. The user can pick either, depending on the type of inference being performed.\n",
    "\n",
    "Relevant metadata:\n",
    "\n",
    "```\n",
    "\"functions\": \"sel_indicators\",\n",
    "\"data_model\": {\n",
    "  \"selection_indicator_function\": \"get_fixed_sel_indicators\"\n",
    "}```"
   ]
  },
  {
   "cell_type": "code",
   "execution_count": 6,
   "metadata": {
    "data_model": {
     "selection_indicator_function": "get_set_sel_indicators"
    },
    "functions": "sel_indicators"
   },
   "outputs": [
    {
     "data": {
      "text/html": [
       "<table>\n",
       "<caption>A data.frame: 19 × 1</caption>\n",
       "<thead>\n",
       "\t<tr><th scope=col>set_sel_indicators</th></tr>\n",
       "\t<tr><th scope=col>&lt;lgl&gt;</th></tr>\n",
       "</thead>\n",
       "<tbody>\n",
       "\t<tr><td>TRUE</td></tr>\n",
       "\t<tr><td>TRUE</td></tr>\n",
       "\t<tr><td>TRUE</td></tr>\n",
       "\t<tr><td>TRUE</td></tr>\n",
       "\t<tr><td>TRUE</td></tr>\n",
       "\t<tr><td>TRUE</td></tr>\n",
       "\t<tr><td>TRUE</td></tr>\n",
       "\t<tr><td>TRUE</td></tr>\n",
       "\t<tr><td>TRUE</td></tr>\n",
       "\t<tr><td>TRUE</td></tr>\n",
       "\t<tr><td>TRUE</td></tr>\n",
       "\t<tr><td>TRUE</td></tr>\n",
       "\t<tr><td>TRUE</td></tr>\n",
       "\t<tr><td>TRUE</td></tr>\n",
       "\t<tr><td>TRUE</td></tr>\n",
       "\t<tr><td>TRUE</td></tr>\n",
       "\t<tr><td>TRUE</td></tr>\n",
       "\t<tr><td>TRUE</td></tr>\n",
       "\t<tr><td>TRUE</td></tr>\n",
       "</tbody>\n",
       "</table>\n"
      ],
      "text/latex": [
       "A data.frame: 19 × 1\n",
       "\\begin{tabular}{r|l}\n",
       " set\\_sel\\_indicators\\\\\n",
       " <lgl>\\\\\n",
       "\\hline\n",
       "\t TRUE\\\\\n",
       "\t TRUE\\\\\n",
       "\t TRUE\\\\\n",
       "\t TRUE\\\\\n",
       "\t TRUE\\\\\n",
       "\t TRUE\\\\\n",
       "\t TRUE\\\\\n",
       "\t TRUE\\\\\n",
       "\t TRUE\\\\\n",
       "\t TRUE\\\\\n",
       "\t TRUE\\\\\n",
       "\t TRUE\\\\\n",
       "\t TRUE\\\\\n",
       "\t TRUE\\\\\n",
       "\t TRUE\\\\\n",
       "\t TRUE\\\\\n",
       "\t TRUE\\\\\n",
       "\t TRUE\\\\\n",
       "\t TRUE\\\\\n",
       "\\end{tabular}\n"
      ],
      "text/markdown": [
       "\n",
       "A data.frame: 19 × 1\n",
       "\n",
       "| set_sel_indicators &lt;lgl&gt; |\n",
       "|---|\n",
       "| TRUE |\n",
       "| TRUE |\n",
       "| TRUE |\n",
       "| TRUE |\n",
       "| TRUE |\n",
       "| TRUE |\n",
       "| TRUE |\n",
       "| TRUE |\n",
       "| TRUE |\n",
       "| TRUE |\n",
       "| TRUE |\n",
       "| TRUE |\n",
       "| TRUE |\n",
       "| TRUE |\n",
       "| TRUE |\n",
       "| TRUE |\n",
       "| TRUE |\n",
       "| TRUE |\n",
       "| TRUE |\n",
       "\n"
      ],
      "text/plain": [
       "   set_sel_indicators\n",
       "1  TRUE              \n",
       "2  TRUE              \n",
       "3  TRUE              \n",
       "4  TRUE              \n",
       "5  TRUE              \n",
       "6  TRUE              \n",
       "7  TRUE              \n",
       "8  TRUE              \n",
       "9  TRUE              \n",
       "10 TRUE              \n",
       "11 TRUE              \n",
       "12 TRUE              \n",
       "13 TRUE              \n",
       "14 TRUE              \n",
       "15 TRUE              \n",
       "16 TRUE              \n",
       "17 TRUE              \n",
       "18 TRUE              \n",
       "19 TRUE              "
      ]
     },
     "metadata": {},
     "output_type": "display_data"
    }
   ],
   "source": [
    "# TODO: In preprocessor, inject a cell that saves the original selection in the\n",
    "# kernel. This allows us to compare original_sel_vars with the simulated\n",
    "# sel vars later.\n",
    "\n",
    "get_fixed_sel_indicator <- function(original_selection, simulated_selection) {\n",
    "    # Generates a single indicator variable (1 or 0) for the fixed selection\n",
    "    # of the simulated data (compared to the original sample).\n",
    "    \n",
    "    fixed_sel_indicator <- all.equal(original_selection['selected_vars'], simulated_selection['selected_vars'])\n",
    "    return(fixed_sel_indicator)  # single indicator\n",
    "}\n",
    "\n",
    "get_set_sel_indicators <- function(original_selection, simulated_selection) {\n",
    "    # Generates a 1-D dataframe of selection indicators (1 or 0) for the set\n",
    "    # selection of the simulated data (compared to the original sample).\n",
    "\n",
    "    # This specific function assumes original_sel_vars is one-dimensional, but\n",
    "    # this doesn't necessarily have to hold as long as the output selection\n",
    "    # indicators are in a one-dimensional array.\n",
    "    \n",
    "    original_sel_vars = original_selection[['selected_vars']]\n",
    "    simulated_sel_vars = simulated_selection[['selected_vars']]\n",
    "    # Empty vector of selection indicators\n",
    "    set_sel_indicators <- c()\n",
    "    \n",
    "    # Loop over each original selected variable to see if it is also selected\n",
    "    # in the simulated data.\n",
    "    sel_var_count = dim(original_sel_vars)[1]\n",
    "    for(i in 1:sel_var_count) {\n",
    "        sel_indicator <- original_sel_vars[i,1] %in% simulated_sel_vars[,1]\n",
    "        set_sel_indicators <- c(set_sel_indicators, sel_indicator)\n",
    "    }\n",
    "    \n",
    "    # Return the vector of indicators as a data frame\n",
    "    set_sel_indicators <- data.frame(set_sel_indicators)\n",
    "    return(set_sel_indicators)\n",
    "}\n"
   ]
  },
  {
   "cell_type": "code",
   "execution_count": 18,
   "metadata": {
    "collapsed": true
   },
   "outputs": [],
   "source": [
    "#library(IRdisplay)\n",
    "\n",
    "#IRdisplay::display_json('[2,3,4]')\n",
    "#IRdisplay:::display_raw('application/mytype', FALSE, toJSON(selected_vars), NULL)\n",
    "#IRdisplay:::display_raw('application/mytype', TRUE, as.raw(c(3,4,5,7,9)), NULL)\n",
    "#?raw"
   ]
  }
 ],
 "metadata": {
  "celltoolbar": "Edit Metadata",
  "jupytext": {
   "cell_metadata_filter": "all,-slideshow",
   "formats": "ipynb"
  },
  "kernelspec": {
   "display_name": "R",
   "language": "R",
   "name": "ir"
  },
  "language_info": {
   "codemirror_mode": "r",
   "file_extension": ".r",
   "mimetype": "text/x-r-source",
   "name": "R",
   "pygments_lexer": "r",
   "version": "3.6.1"
  }
 },
 "nbformat": 4,
 "nbformat_minor": 2
}
