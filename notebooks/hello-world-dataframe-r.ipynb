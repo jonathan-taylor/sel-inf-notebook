{
 "cells": [
  {
   "cell_type": "markdown",
   "metadata": {},
   "source": [
    "# \"Hello World\" Example in R"
   ]
  },
  {
   "cell_type": "code",
   "execution_count": 1,
   "metadata": {},
   "outputs": [
    {
     "name": "stderr",
     "output_type": "stream",
     "text": [
      "Loading required package: Matrix\n",
      "Loaded glmnet 3.0\n",
      "\n",
      "── \u001b[1mAttaching packages\u001b[22m ─────────────────────────────────────── tidyverse 1.2.1 ──\n",
      "\u001b[32m✔\u001b[39m \u001b[34mggplot2\u001b[39m 3.2.1     \u001b[32m✔\u001b[39m \u001b[34mpurrr  \u001b[39m 0.3.3\n",
      "\u001b[32m✔\u001b[39m \u001b[34mtibble \u001b[39m 2.1.3     \u001b[32m✔\u001b[39m \u001b[34mdplyr  \u001b[39m 0.8.3\n",
      "\u001b[32m✔\u001b[39m \u001b[34mtidyr  \u001b[39m 1.0.0     \u001b[32m✔\u001b[39m \u001b[34mstringr\u001b[39m 1.4.0\n",
      "\u001b[32m✔\u001b[39m \u001b[34mreadr  \u001b[39m 1.3.1     \u001b[32m✔\u001b[39m \u001b[34mforcats\u001b[39m 0.4.0\n",
      "── \u001b[1mConflicts\u001b[22m ────────────────────────────────────────── tidyverse_conflicts() ──\n",
      "\u001b[31m✖\u001b[39m \u001b[34mtidyr\u001b[39m::\u001b[32mexpand()\u001b[39m masks \u001b[34mMatrix\u001b[39m::expand()\n",
      "\u001b[31m✖\u001b[39m \u001b[34mdplyr\u001b[39m::\u001b[32mfilter()\u001b[39m masks \u001b[34mstats\u001b[39m::filter()\n",
      "\u001b[31m✖\u001b[39m \u001b[34mdplyr\u001b[39m::\u001b[32mlag()\u001b[39m    masks \u001b[34mstats\u001b[39m::lag()\n",
      "\u001b[31m✖\u001b[39m \u001b[34mtidyr\u001b[39m::\u001b[32mpack()\u001b[39m   masks \u001b[34mMatrix\u001b[39m::pack()\n",
      "\u001b[31m✖\u001b[39m \u001b[34mtidyr\u001b[39m::\u001b[32munpack()\u001b[39m masks \u001b[34mMatrix\u001b[39m::unpack()\n",
      "\n",
      "Attaching package: ‘MASS’\n",
      "\n",
      "The following object is masked from ‘package:dplyr’:\n",
      "\n",
      "    select\n",
      "\n"
     ]
    }
   ],
   "source": [
    "library(glmnet)\n",
    "library(rjson)\n",
    "library(tidyverse)\n",
    "library(MASS)\n",
    "library(purrr)"
   ]
  },
  {
   "cell_type": "markdown",
   "metadata": {},
   "source": [
    "## Researcher Loads in Data"
   ]
  },
  {
   "cell_type": "code",
   "execution_count": 5,
   "metadata": {
    "collapsed": true,
    "data_input": [
     [
      "X",
      "X.csv"
     ],
     [
      "y",
      "y.csv"
     ]
    ]
   },
   "outputs": [],
   "source": [
    "#X = read.table('../X.csv', sep=',')\n",
    "#y = read.table('../Y.csv')"
   ]
  },
  {
   "cell_type": "markdown",
   "metadata": {},
   "source": [
    "## Selection Algorithm (function)\n",
    "\n",
    "Relevant metadata:\n",
    "\n",
    "```\n",
    "\"capture_selection\": [\n",
    "  {\n",
    "    \"selection_type\": \"set\",\n",
    "    \"encoder\": \"dataframe\",\n",
    "    \"name\": \"selected_vars\"\n",
    "  }\n",
    "```\n",
    "\n",
    "Using a map/dictionary metaphor, the \"keys\" are universal elements of the algorithm. The \"values\" are the corresponding names of these elements in the notebook code.\n",
    "\n",
    "After the initial run of the preprocessor on the full dataset, we add an additional entry to the metadata:\n",
    "\n",
    "```\n",
    "\"original_selection\": \"some base 64 string\"\n",
    "```\n",
    "\n",
    "where `\"some base 64 string\"` is a base 64 string of the dataframe of selected variables"
   ]
  },
  {
   "cell_type": "code",
   "execution_count": 6,
   "metadata": {
    "capture_selection": [
     {
      "encoder": "dataframe",
      "name": "selected_vars",
      "selection_type": "set"
     }
    ],
    "collapsed": true
   },
   "outputs": [],
   "source": [
    "selection_algorithm <- function(X, y) {\n",
    "    X = as.matrix(X)\n",
    "    y = as.matrix(y)\n",
    "    n <- nrow(X)\n",
    "    p <- ncol(X)\n",
    "    \n",
    "    min_success <- 6\n",
    "    ntries <- 10\n",
    "    \n",
    "    make_lambda_grid <- function(X, y) {\n",
    "        # Return a vector of lambda values where the corresponding lasso model\n",
    "        # satisfies the following constraint:\n",
    "        #   number of selected variables < sqrt(0.8 * p)\n",
    "        p <- ncol(X)\n",
    "        model <- cv.glmnet(X, y, alpha=1)$glmnet.fit\n",
    "        lambdas <- model$lambda\n",
    "        nselected <- model$df  # number of selected vars for each lambda\n",
    "        return(lambdas[nselected < sqrt(0.8 * p)])\n",
    "    }\n",
    "\n",
    "    lambda_grid <- make_lambda_grid(X, y)\n",
    "    success <- matrix(0, nrow=p, ncol=length(lambda_grid))\n",
    "    \n",
    "    for(i in 1:ntries) {\n",
    "        subsample_indexes <- sample(1:n, floor(n/2), replace=FALSE)\n",
    "        Xsub <- X[subsample_indexes,]\n",
    "        noisy_y <- y[subsample_indexes] + rnorm(floor(n/2))\n",
    "        model <- cv.glmnet(Xsub, noisy_y, alpha=1)\n",
    "        \n",
    "        lambdas <- model$lambda\n",
    "        coefs <- coef(model, lambda_grid)\n",
    "        success <- success + (coefs[-1,] != 0)\n",
    "    }\n",
    "    \n",
    "    selection_fn <- function(x) {\n",
    "        return(sum(x > min_success) > 2)\n",
    "    }\n",
    "    selected <- apply(X=success, MARGIN=2, FUN=selection_fn)\n",
    "    vars <- which(selected != 0)  # indexes of selected lambdas\n",
    "    return(as.numeric(vars))\n",
    "}\n",
    "\n",
    "selected_vars <- selection_algorithm(X, y)\n",
    "selected_vars <- data.frame(selection = selected_vars)\n",
    "#selected_vars"
   ]
  },
  {
   "cell_type": "markdown",
   "metadata": {},
   "source": [
    "## Sufficient Statistics, Estimators, Simulation\n",
    "\n",
    "Relevant metadata:\n",
    "\n",
    "```\n",
    "\"functions\": \"stats_computations\",\n",
    "\"data_model\": {\n",
    "  \"sufficient_statistics\": \"compute_sufficient_statistics\",\n",
    "  \"estimators\": \"compute_estimators\",\n",
    "  \"resample_data\": \"resample_data\"\n",
    "}\n",
    "```\n",
    "\n",
    "The \"keys\" are universal elements of the algorithm. The \"values\" are the corresponding names of these elements in the notebook code."
   ]
  },
  {
   "cell_type": "code",
   "execution_count": 9,
   "metadata": {
    "collapsed": true,
    "data_model": {
     "estimators": "compute_estimators",
     "resample_data": "resample_data",
     "sufficient_statistics": "compute_sufficient_statistics",
     "variances": "estimate_var"
    },
    "functions": "stats_computations"
   },
   "outputs": [],
   "source": [
    "M = lm(as.matrix(y) ~ as.matrix(X))\n",
    "D = model.matrix(M)\n",
    "compute_sufficient_statistics <- function(selection) {\n",
    "    # Computes the sufficient statistic and returns it as a dataframe\n",
    "    y_ = as.matrix(y)   \n",
    "    suff_stat_1 <- t(D) %*% y_\n",
    "    suff_stat_2 <- sum(y^2)\n",
    "    \n",
    "    combined <- c(suff_stat_1) #\n",
    "    combined  <- data.frame(t(as.matrix(combined)))\n",
    "    \n",
    "    return(combined)\n",
    "}\n",
    "\n",
    "test_fn = function(selection,idx) { idx %in% selection[['selected_vars']][['selection']]}\n",
    "\n",
    "compute_estimators <- function(selection) {\n",
    "    #X = as.matrix(data[[\"X\"]])\n",
    "    #y = as.matrix(data[[\"y\"]])\n",
    "    \n",
    "    result = list()\n",
    "    beta_hat = coef(M)[-1]\n",
    "    idx = 1\n",
    "    for (var in c(selection[['selected_vars']][['selection']])) {\n",
    "        fn = purrr::partial(test_fn, idx=!!var) # the !!unquotes var so its value is fixed\n",
    "        result[[idx]] = list(identifier=var, \n",
    "                             value=beta_hat[var], \n",
    "                             check_fn=fn)\n",
    "        idx = idx + 1\n",
    "    }\n",
    "    return(result)\n",
    "}\n",
    "\n",
    "estimate_var <- function(selection) {\n",
    "    V = diag(vcov(M))[-1]\n",
    "    result = list() \n",
    "    idx = 1\n",
    "    n = nrow(X)\n",
    "    p = ncol(D)\n",
    "    dispersion = sum(resid(M)^2) / (n-p)\n",
    "    for (var in c(selection[['selected_vars']][['selection']])) {\n",
    "        fn = purrr::partial(test_fn, idx=!!var) # the !!unquotes var so its value is fixed\n",
    "        cross = rep(0, p)\n",
    "        cross[var] = dispersion\n",
    "        result[[idx]] = list(identifier=var, \n",
    "                             var=V[var],\n",
    "                             cross=cross)\n",
    "        idx = idx + 1\n",
    "    }    \n",
    "    return(result)\n",
    "}\n",
    "\n",
    "resample_data <- function(data, selection) {\n",
    "    X = as.matrix(data[[\"X\"]])\n",
    "    y = as.matrix(data[[\"y\"]])\n",
    "    #fixed_sel <- fromJSON(fixed_sel)\n",
    "    #n <- nrow(X)\n",
    "    #p <- ncol(X)\n",
    "    #resids <- y - X %*% ginv(t(X) %*% X) %*% (t(X) %*% y)\n",
    "    #fitted <- y - resids\n",
    "    \n",
    "    #resampled <- sample(1:n, n, replace=TRUE)\n",
    "    #y_tilde <- fitted + resids[resampled]\n",
    "    y_tilde <- y + rnorm(n = dim(y)[1])\n",
    "    \n",
    "    return(list(X = X, y = y_tilde))\n",
    "}\n",
    "\n",
    "# Test/display resampling\n",
    "#data = list(X = X, y = y)\n",
    "#resample_data(data, selected_vars)"
   ]
  },
  {
   "cell_type": "markdown",
   "metadata": {},
   "source": [
    "## Selection Indicators\n",
    "\n",
    "Here, we define two choices of selection indicator functions -- one for fixed selection and one for set selection. The user can pick either, depending on the type of inference being performed.\n",
    "\n",
    "Relevant metadata:\n",
    "\n",
    "```\n",
    "\"functions\": \"sel_indicators\",\n",
    "\"data_model\": {\n",
    "  \"selection_indicator_function\": \"get_fixed_sel_indicators\"\n",
    "}```"
   ]
  },
  {
   "cell_type": "markdown",
   "metadata": {
    "data_model": {
     "selection_indicator_function": "get_set_sel_indicators"
    },
    "functions": "sel_indicators"
   },
   "source": [
    "# TODO: In preprocessor, inject a cell that saves the original selection in the\n",
    "# kernel. This allows us to compare original_sel_vars with the simulated\n",
    "# sel vars later.\n",
    "\n",
    "get_fixed_sel_indicator <- function(original_selection, simulated_selection) {\n",
    "    # Generates a single indicator variable (1 or 0) for the fixed selection\n",
    "    # of the simulated data (compared to the original sample).\n",
    "    \n",
    "    fixed_sel_indicator <- all.equal(original_selection['selected_vars'], simulated_selection['selected_vars'])\n",
    "    return(fixed_sel_indicator)  # single indicator\n",
    "}\n",
    "\n",
    "get_set_sel_indicators <- function(original_selection, simulated_selection) {\n",
    "    # Generates a 1-D dataframe of selection indicators (1 or 0) for the set\n",
    "    # selection of the simulated data (compared to the original sample).\n",
    "\n",
    "    # This specific function assumes original_sel_vars is one-dimensional, but\n",
    "    # this doesn't necessarily have to hold as long as the output selection\n",
    "    # indicators are in a one-dimensional array.\n",
    "    \n",
    "    original_sel_vars = original_selection[['selected_vars']]\n",
    "    simulated_sel_vars = simulated_selection[['selected_vars']]\n",
    "    # Empty vector of selection indicators\n",
    "    set_sel_indicators <- c()\n",
    "    \n",
    "    # Loop over each original selected variable to see if it is also selected\n",
    "    # in the simulated data.\n",
    "    sel_var_count = dim(original_sel_vars)[1]\n",
    "    for(i in 1:sel_var_count) {\n",
    "        sel_indicator <- original_sel_vars[i,1] %in% simulated_sel_vars[,1]\n",
    "        set_sel_indicators <- c(set_sel_indicators, sel_indicator)\n",
    "    }\n",
    "    \n",
    "    # Return the vector of indicators as a data frame\n",
    "    set_sel_indicators <- data.frame(set_sel_indicators)\n",
    "    return(set_sel_indicators)\n",
    "}\n"
   ]
  }
 ],
 "metadata": {
  "celltoolbar": "Edit Metadata",
  "jupytext": {
   "cell_metadata_filter": "all,-slideshow",
   "formats": "ipynb"
  },
  "kernelspec": {
   "display_name": "R",
   "language": "R",
   "name": "ir"
  },
  "language_info": {
   "codemirror_mode": "r",
   "file_extension": ".r",
   "mimetype": "text/x-r-source",
   "name": "R",
   "pygments_lexer": "r",
   "version": "3.6.1"
  }
 },
 "nbformat": 4,
 "nbformat_minor": 2
}
