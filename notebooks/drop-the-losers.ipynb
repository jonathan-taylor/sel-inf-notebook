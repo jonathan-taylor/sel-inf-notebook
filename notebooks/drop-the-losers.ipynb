{
 "cells": [
  {
   "cell_type": "code",
   "execution_count": 1,
   "metadata": {},
   "outputs": [],
   "source": [
    "import numpy as np"
   ]
  },
  {
   "cell_type": "markdown",
   "metadata": {},
   "source": [
    "# Drop the Losers Experiment\n",
    "\n",
    "https://www.ncbi.nlm.nih.gov/pubmed/16053251\n",
    "\n",
    "https://onlinelibrary.wiley.com/doi/epdf/10.1002/bimj.200410119\n",
    "\n",
    "https://www.oatext.com/pdf/CRT-3-186.pdf\n",
    "\n",
    "https://searchworks.stanford.edu/articles/edo__ejs22481119"
   ]
  },
  {
   "cell_type": "markdown",
   "metadata": {},
   "source": [
    "## Step 1\n",
    "\n",
    "Let $k$ be the number of \"treatments.\" Generate $Y_1, \\dots, Y_k$, where $Y_i \\in \\mathbb{R}^{n_i}$ for any natural $n_i$. Think of the vectors $Y_i$ as lists of observations for each treatment $i \\in \\{1, \\dots, k\\}$.\n",
    "\n",
    "Define $Y_i \\sim N(\\mu_i, \\sigma^2)$ (*note $\\sigma^2$ is constant across all classes*).\n",
    "\n",
    "Define $i^* = \\arg\\max(\\bar{Y}_i)$."
   ]
  },
  {
   "cell_type": "code",
   "execution_count": 39,
   "metadata": {
    "save_output": true
   },
   "outputs": [
    {
     "data": {
      "text/plain": [
       "3"
      ]
     },
     "execution_count": 39,
     "metadata": {},
     "output_type": "execute_result"
    }
   ],
   "source": [
    "np.random.seed(1)\n",
    "\n",
    "# Randomly generate n_i, given k\n",
    "k = 10\n",
    "n = np.random.uniform(low=5, high=15, size=k)\n",
    "n = n.astype(int)\n",
    "\n",
    "# Randomly generate mu_i and fixed sigma\n",
    "mu = np.random.uniform(low=30, high=50, size=k)\n",
    "mu = mu.astype(int)\n",
    "sigma = 1\n",
    "\n",
    "# Randomly generate Y_i, given n_i\n",
    "y = []\n",
    "for i in range(k):\n",
    "    y_i = np.random.normal(loc=mu[i], scale=sigma**2, size=n[i])\n",
    "    y.append(y_i)\n",
    "\n",
    "def compute_i_star(y):\n",
    "    \"\"\"Compute the index of the treatment with the highest sample mean.\n",
    "    \n",
    "    Args:\n",
    "        y (list): A list of 1D ndarray objects representing the observations\n",
    "            of each treatment group.\n",
    "    \n",
    "    Returns:\n",
    "        int: The index of the treatment group with the highest sample mean.\n",
    "    \"\"\"\n",
    "    k = len(y)  # number of treament groups\n",
    "\n",
    "    # Compute the mean of each vector Y_i\n",
    "    y_bar = []\n",
    "    for i in range(k):\n",
    "        y_i_bar = np.mean(y[i])\n",
    "        y_bar.append(y_i_bar)\n",
    "\n",
    "    # Identify the index of the vector with the highest mean\n",
    "    i_star = np.argmax(y_bar)\n",
    "    \n",
    "    return i_star\n",
    "\n",
    "i_star = compute_i_star(y)\n",
    "i_star"
   ]
  },
  {
   "cell_type": "markdown",
   "metadata": {},
   "source": [
    "## Step 2\n",
    "\n",
    "Let $m$ be the sample size for an additional experiment on the optimal treatment $i^*$.\n",
    "\n",
    "Define $W \\sim N(\\mu_{i^*}, \\sigma^2)$, where $W \\in \\mathbb{R}^m$.\n",
    "\n",
    "Define $\\mu_{i^*} = \\frac{n_{i^*} \\bar{Y}_{i^*} + \\bar{W}}{n_{i^*} + m}$"
   ]
  },
  {
   "cell_type": "code",
   "execution_count": 40,
   "metadata": {},
   "outputs": [
    {
     "data": {
      "text/plain": [
       "23.58172648050438"
      ]
     },
     "execution_count": 40,
     "metadata": {},
     "output_type": "execute_result"
    }
   ],
   "source": [
    "# Generate W\n",
    "m = 10  # arbitrary choice\n",
    "w = np.random.normal(loc=mu[i_star], scale=sigma**2, size=m)\n",
    "\n",
    "mu_i_star = (n[i_star] * np.mean(y[i_star]) + np.mean(w)) / (n[i_star] + m)\n",
    "mu_i_star"
   ]
  }
 ],
 "metadata": {
  "celltoolbar": "Edit Metadata",
  "jupytext": {
   "formats": "ipynb,Rmd"
  },
  "kernelspec": {
   "display_name": "Python 3",
   "language": "python",
   "name": "python3"
  },
  "language_info": {
   "codemirror_mode": {
    "name": "ipython",
    "version": 3
   },
   "file_extension": ".py",
   "mimetype": "text/x-python",
   "name": "python",
   "nbconvert_exporter": "python",
   "pygments_lexer": "ipython3",
   "version": "3.5.3"
  }
 },
 "nbformat": 4,
 "nbformat_minor": 2
}
